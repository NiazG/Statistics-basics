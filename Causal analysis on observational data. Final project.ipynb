{
 "cells": [
  {
   "cell_type": "code",
   "execution_count": 1,
   "metadata": {},
   "outputs": [],
   "source": [
    "import pandas as pd\n",
    "import numpy as np\n",
    "from matplotlib import pyplot as plt\n",
    "import statsmodels.formula.api as smf\n",
    "from causalinference import CausalModel\n",
    "from sklearn.linear_model import LogisticRegression\n",
    "from sklearn.linear_model import LinearRegression\n",
    "from sklearn.calibration import CalibratedClassifierCV\n",
    "from causalinference import CausalModel\n",
    "import networkx as nx\n",
    "\n",
    "%matplotlib inline\n"
   ]
  },
  {
   "cell_type": "code",
   "execution_count": 2,
   "metadata": {},
   "outputs": [
    {
     "data": {
      "image/png": "[encoded data removed]",
      "text/plain": [
       "<Figure size 432x288 with 1 Axes>"
      ]
     },
     "metadata": {},
     "output_type": "display_data"
    }
   ],
   "source": [
    "G = nx.DiGraph()\n",
    "\n",
    "G.add_edges_from(\n",
    "    [(\"Unobserved Confounders\", \"Treatment\"), \n",
    "     (\"Unobserved Confounders\", \"dT\"),\n",
    "     (\"Unobserved Confounders\", \"Growth\"),\n",
    "     (\"Treatment\", \"dANB\"),\n",
    "     (\"Treatment\", \"dCoA\"),\n",
    "     (\"Growth\", \"dANB\"),\n",
    "     (\"dANB\", \"dIMPA\"),\n",
    "     (\"dT\", \"Growth\"),\n",
    "     (\"dT\", \"dGoPg\"),\n",
    "     (\"dT\", \"dCoGo\"),\n",
    "     (\"dCoA\", \"dCoGo\"),\n",
    "     (\"dCoA\", \"dGoPg\"),\n",
    "     (\"dCoGo\", \"dPPPM\"),\n",
    "     (\"dPPPM\", \"dIMPA\")\n",
    "    ])\n",
    "\n",
    "\n",
    "pos = nx.spring_layout(G)\n",
    "\n",
    "nx.draw_networkx_nodes(G, pos, node_size=500)\n",
    "nx.draw_networkx_edges(G, pos, edgelist=G.edges(), edge_color='black')\n",
    "nx.draw_networkx_labels(G, pos)\n",
    "plt.show()"
   ]
  },
  {
   "cell_type": "markdown",
   "metadata": {},
   "source": [
    "As we can see fromt he provided graph the Treatment assignment, Growth and number of years between two measurements are likely to be affected by some unobserved confounders.\n",
    "\n",
    "Given the graph, select the variables to condition on, apply suitable adjustment method, and calculate your estimates of causal effects: Treatment on Growth, Treatment on dANB, both ATE and ATET."
   ]
  },
  {
   "cell_type": "code",
   "execution_count": 3,
   "metadata": {},
   "outputs": [
    {
     "data": {
      "text/html": [
       "<div>\n",
       "<style scoped>\n",
       "    .dataframe tbody tr th:only-of-type {\n",
       "        vertical-align: middle;\n",
       "    }\n",
       "\n",
       "    .dataframe tbody tr th {\n",
       "        vertical-align: top;\n",
       "    }\n",
       "\n",
       "    .dataframe thead th {\n",
       "        text-align: right;\n",
       "    }\n",
       "</style>\n",
       "<table border=\"1\" class=\"dataframe\">\n",
       "  <thead>\n",
       "    <tr style=\"text-align: right;\">\n",
       "      <th></th>\n",
       "      <th>dANB</th>\n",
       "      <th>dPPPM</th>\n",
       "      <th>dIMPA</th>\n",
       "      <th>dCoA</th>\n",
       "      <th>dGoPg</th>\n",
       "      <th>dCoGo</th>\n",
       "      <th>dT</th>\n",
       "      <th>Growth</th>\n",
       "      <th>Treatment</th>\n",
       "    </tr>\n",
       "  </thead>\n",
       "  <tbody>\n",
       "    <tr>\n",
       "      <th>0</th>\n",
       "      <td>-3.2</td>\n",
       "      <td>-1.1</td>\n",
       "      <td>-4.2</td>\n",
       "      <td>1.0</td>\n",
       "      <td>4.0</td>\n",
       "      <td>3.7</td>\n",
       "      <td>5</td>\n",
       "      <td>0</td>\n",
       "      <td>0</td>\n",
       "    </tr>\n",
       "    <tr>\n",
       "      <th>1</th>\n",
       "      <td>-0.6</td>\n",
       "      <td>-0.5</td>\n",
       "      <td>3.8</td>\n",
       "      <td>2.6</td>\n",
       "      <td>-0.1</td>\n",
       "      <td>1.4</td>\n",
       "      <td>3</td>\n",
       "      <td>1</td>\n",
       "      <td>0</td>\n",
       "    </tr>\n",
       "    <tr>\n",
       "      <th>2</th>\n",
       "      <td>-1.6</td>\n",
       "      <td>-3.1</td>\n",
       "      <td>-6.0</td>\n",
       "      <td>4.3</td>\n",
       "      <td>4.2</td>\n",
       "      <td>7.1</td>\n",
       "      <td>5</td>\n",
       "      <td>0</td>\n",
       "      <td>0</td>\n",
       "    </tr>\n",
       "    <tr>\n",
       "      <th>3</th>\n",
       "      <td>-1.1</td>\n",
       "      <td>-2.1</td>\n",
       "      <td>-12.1</td>\n",
       "      <td>14.1</td>\n",
       "      <td>20.7</td>\n",
       "      <td>17.5</td>\n",
       "      <td>9</td>\n",
       "      <td>0</td>\n",
       "      <td>0</td>\n",
       "    </tr>\n",
       "    <tr>\n",
       "      <th>4</th>\n",
       "      <td>-1.1</td>\n",
       "      <td>0.0</td>\n",
       "      <td>-6.7</td>\n",
       "      <td>7.7</td>\n",
       "      <td>8.8</td>\n",
       "      <td>11.0</td>\n",
       "      <td>5</td>\n",
       "      <td>0</td>\n",
       "      <td>0</td>\n",
       "    </tr>\n",
       "    <tr>\n",
       "      <th>5</th>\n",
       "      <td>-0.6</td>\n",
       "      <td>-0.9</td>\n",
       "      <td>-1.1</td>\n",
       "      <td>0.1</td>\n",
       "      <td>-1.0</td>\n",
       "      <td>0.9</td>\n",
       "      <td>3</td>\n",
       "      <td>1</td>\n",
       "      <td>0</td>\n",
       "    </tr>\n",
       "    <tr>\n",
       "      <th>6</th>\n",
       "      <td>-1.2</td>\n",
       "      <td>-1.8</td>\n",
       "      <td>1.8</td>\n",
       "      <td>1.6</td>\n",
       "      <td>1.7</td>\n",
       "      <td>3.0</td>\n",
       "      <td>3</td>\n",
       "      <td>1</td>\n",
       "      <td>0</td>\n",
       "    </tr>\n",
       "    <tr>\n",
       "      <th>7</th>\n",
       "      <td>-0.1</td>\n",
       "      <td>-2.3</td>\n",
       "      <td>1.6</td>\n",
       "      <td>2.5</td>\n",
       "      <td>4.1</td>\n",
       "      <td>0.1</td>\n",
       "      <td>2</td>\n",
       "      <td>1</td>\n",
       "      <td>0</td>\n",
       "    </tr>\n",
       "    <tr>\n",
       "      <th>8</th>\n",
       "      <td>0.6</td>\n",
       "      <td>-0.9</td>\n",
       "      <td>0.6</td>\n",
       "      <td>5.1</td>\n",
       "      <td>5.1</td>\n",
       "      <td>8.7</td>\n",
       "      <td>3</td>\n",
       "      <td>0</td>\n",
       "      <td>1</td>\n",
       "    </tr>\n",
       "    <tr>\n",
       "      <th>9</th>\n",
       "      <td>-3.0</td>\n",
       "      <td>-2.6</td>\n",
       "      <td>0.4</td>\n",
       "      <td>11.9</td>\n",
       "      <td>14.7</td>\n",
       "      <td>16.5</td>\n",
       "      <td>11</td>\n",
       "      <td>0</td>\n",
       "      <td>0</td>\n",
       "    </tr>\n",
       "  </tbody>\n",
       "</table>\n",
       "</div>"
      ],
      "text/plain": [
       "   dANB  dPPPM  dIMPA  dCoA  dGoPg  dCoGo  dT  Growth  Treatment\n",
       "0  -3.2   -1.1   -4.2   1.0    4.0    3.7   5       0          0\n",
       "1  -0.6   -0.5    3.8   2.6   -0.1    1.4   3       1          0\n",
       "2  -1.6   -3.1   -6.0   4.3    4.2    7.1   5       0          0\n",
       "3  -1.1   -2.1  -12.1  14.1   20.7   17.5   9       0          0\n",
       "4  -1.1    0.0   -6.7   7.7    8.8   11.0   5       0          0\n",
       "5  -0.6   -0.9   -1.1   0.1   -1.0    0.9   3       1          0\n",
       "6  -1.2   -1.8    1.8   1.6    1.7    3.0   3       1          0\n",
       "7  -0.1   -2.3    1.6   2.5    4.1    0.1   2       1          0\n",
       "8   0.6   -0.9    0.6   5.1    5.1    8.7   3       0          1\n",
       "9  -3.0   -2.6    0.4  11.9   14.7   16.5  11       0          0"
      ]
     },
     "execution_count": 3,
     "metadata": {},
     "output_type": "execute_result"
    }
   ],
   "source": [
    "data = pd.read_csv(\"malocclusion.csv\")\n",
    "data.head(10)"
   ]
  },
  {
   "cell_type": "markdown",
   "metadata": {},
   "source": [
    "# Treatment on Growth"
   ]
  },
  {
   "cell_type": "markdown",
   "metadata": {},
   "source": [
    "The Treatment and growth have a common node Unobserved Confounders."
   ]
  },
  {
   "cell_type": "code",
   "execution_count": 4,
   "metadata": {},
   "outputs": [
    {
     "data": {
      "image/png": "[encoded data removed]",
      "text/plain": [
       "<Figure size 432x288 with 1 Axes>"
      ]
     },
     "metadata": {},
     "output_type": "display_data"
    }
   ],
   "source": [
    "G = nx.DiGraph()\n",
    "\n",
    "G.add_edges_from(\n",
    "    [(\"Unobserved Confounders\", \"Treatment\"),\n",
    "     (\"Unobserved Confounders\", \"Growth\"),\n",
    "     (\"Unobserved Confounders\", \"Time\"),\n",
    "     (\"Time\", \"Growth\")])\n",
    "\n",
    "pos = nx.spring_layout(G)\n",
    "\n",
    "nx.draw_networkx_nodes(G, pos, node_size=500)\n",
    "nx.draw_networkx_edges(G, pos, edgelist=G.edges(), edge_color='black')\n",
    "nx.draw_networkx_labels(G, pos)\n",
    "plt.show()"
   ]
  },
  {
   "cell_type": "markdown",
   "metadata": {},
   "source": [
    "# Naive ATE Estimator"
   ]
  },
  {
   "cell_type": "code",
   "execution_count": 5,
   "metadata": {},
   "outputs": [
    {
     "data": {
      "text/plain": [
       "0.1471861471861472"
      ]
     },
     "execution_count": 5,
     "metadata": {},
     "output_type": "execute_result"
    }
   ],
   "source": [
    "ATE_Naive_estimate = data[data.Treatment == 1].Growth.mean() - data[data.Treatment == 0].Growth.mean()\n",
    "ATE_Naive_estimate"
   ]
  },
  {
   "cell_type": "markdown",
   "metadata": {},
   "source": [
    "### Regression"
   ]
  },
  {
   "cell_type": "code",
   "execution_count": 6,
   "metadata": {},
   "outputs": [
    {
     "name": "stdout",
     "output_type": "stream",
     "text": [
      "==============================================================================\n",
      "                 coef    std err          t      P>|t|      [0.025      0.975]\n",
      "------------------------------------------------------------------------------\n",
      "Intercept      0.4623      0.086      5.382      0.000       0.292       0.632\n",
      "dT            -0.0325      0.017     -1.894      0.060      -0.066       0.001\n",
      "Treatment      0.2088      0.088      2.385      0.018       0.036       0.382\n",
      "==============================================================================\n"
     ]
    }
   ],
   "source": [
    "reg_model_1 = smf.ols('Growth ~ dT + Treatment', data=data).fit()\n",
    "print(reg_model_1.summary().tables[1])"
   ]
  },
  {
   "cell_type": "markdown",
   "metadata": {},
   "source": [
    "ATE estimate is 0.2088"
   ]
  },
  {
   "cell_type": "markdown",
   "metadata": {},
   "source": [
    "### Propensity score weighting"
   ]
  },
  {
   "cell_type": "code",
   "execution_count": 7,
   "metadata": {},
   "outputs": [
    {
     "name": "stdout",
     "output_type": "stream",
     "text": [
      "==============================================================================\n",
      "                 coef    std err          t      P>|t|      [0.025      0.975]\n",
      "------------------------------------------------------------------------------\n",
      "Intercept      0.4515      0.092      4.930      0.000       0.270       0.633\n",
      "dT            -0.0299      0.014     -2.161      0.032      -0.057      -0.003\n",
      "Treatment      0.2083      0.079      2.623      0.010       0.051       0.365\n",
      "==============================================================================\n"
     ]
    }
   ],
   "source": [
    "cls = LogisticRegression()\n",
    "cls = CalibratedClassifierCV(cls)\n",
    "                             \n",
    "\n",
    "X = data[['dT']]\n",
    "y = data['Treatment']\n",
    "cls.fit(X, y)\n",
    "data['e'] = cls.predict_proba(X)[:,1].tolist()\n",
    "\n",
    "\n",
    "data['w'] = data['Treatment'] / data['e'] + (1 - data['Treatment']) / (1 - data['e'])\n",
    "m = smf.wls('Growth ~ dT + Treatment', data=data, weights=data['w'])\n",
    "fitted = m.fit()\n",
    "print(fitted.summary().tables[1])"
   ]
  },
  {
   "cell_type": "markdown",
   "metadata": {},
   "source": [
    "Propensity Score Weighting ATE estimate is 0.2083"
   ]
  },
  {
   "cell_type": "markdown",
   "metadata": {},
   "source": [
    "# Doubly robust estimator"
   ]
  },
  {
   "cell_type": "code",
   "execution_count": 8,
   "metadata": {},
   "outputs": [],
   "source": [
    "y0 = LinearRegression().fit(data[data.Treatment == 0][['dT']], data[data.Treatment == 0]['Growth']).predict(data[['dT']])\n",
    "y1 = LinearRegression().fit(data[data.Treatment == 1][['dT']], data[data.Treatment == 1]['Growth']).predict(data[['dT']])\n",
    "\n",
    "data['DR0'] = (1-data['Treatment']) * (data['Growth'] - y0)/(1-data['e']) + y0\n",
    "data['DR1'] =    data['Treatment']  * (data['Growth'] - y1)/   data['e']  + y1\n"
   ]
  },
  {
   "cell_type": "code",
   "execution_count": 9,
   "metadata": {},
   "outputs": [
    {
     "name": "stdout",
     "output_type": "stream",
     "text": [
      "The Doubly Robust ATE:  0.19901991595095342\n"
     ]
    }
   ],
   "source": [
    "ATE_DR = data['DR1'].mean() - data['DR0'].mean()\n",
    "print(\"The Doubly Robust ATE: \", ATE_DR)"
   ]
  },
  {
   "cell_type": "markdown",
   "metadata": {},
   "source": [
    "### Matching with Mahalanobis distance"
   ]
  },
  {
   "cell_type": "code",
   "execution_count": 23,
   "metadata": {},
   "outputs": [
    {
     "name": "stdout",
     "output_type": "stream",
     "text": [
      "\n",
      "Treatment Effect Estimates: Matching\n",
      "\n",
      "                     Est.       S.e.          z      P>|z|      [95% Conf. int.]\n",
      "--------------------------------------------------------------------------------\n",
      "           ATE      0.320      0.120      2.678      0.007      0.086      0.554\n",
      "           ATC      0.338      0.155      2.179      0.029      0.034      0.641\n",
      "           ATT      0.300      0.130      2.307      0.021      0.045      0.554\n",
      "\n"
     ]
    }
   ],
   "source": [
    "adjustment_set = ['dT']\n",
    "\n",
    "causal = CausalModel(\n",
    "    Y=data['Growth'].values, # outcome\n",
    "    D=data['Treatment'].values, # treatment\n",
    "    X=data[adjustment_set].values\n",
    ")\n",
    "\n",
    "causal.est_via_matching(bias_adj=True)\n",
    "print(causal.estimates)"
   ]
  },
  {
   "cell_type": "markdown",
   "metadata": {},
   "source": [
    "The ATE in this case is 0.32"
   ]
  },
  {
   "cell_type": "markdown",
   "metadata": {},
   "source": [
    "### Propensity Score Matching"
   ]
  },
  {
   "cell_type": "code",
   "execution_count": 11,
   "metadata": {},
   "outputs": [
    {
     "name": "stdout",
     "output_type": "stream",
     "text": [
      "\n",
      "Treatment Effect Estimates: Matching\n",
      "\n",
      "                     Est.       S.e.          z      P>|z|      [95% Conf. int.]\n",
      "--------------------------------------------------------------------------------\n",
      "           ATE      0.320      0.119      2.678      0.007      0.086      0.554\n",
      "           ATC      0.337      0.155      2.174      0.030      0.033      0.640\n",
      "           ATT      0.300      0.130      2.314      0.021      0.046      0.553\n",
      "\n"
     ]
    }
   ],
   "source": [
    "causal = CausalModel(\n",
    "    Y=data['Growth'].values, \n",
    "    D=data['Treatment'].values,\n",
    "    X=data['e'].values\n",
    ")\n",
    "causal.est_via_matching(bias_adj=True)\n",
    "print(causal.estimates)"
   ]
  },
  {
   "cell_type": "markdown",
   "metadata": {},
   "source": [
    "The ATE after the Propensity Score Matching is 0.32"
   ]
  },
  {
   "cell_type": "markdown",
   "metadata": {},
   "source": [
    "### Results\n",
    "* The Naive ATE is 0.1471\n",
    "* The Regression ATE is 0.2088\n",
    "* The Propensity score weighting ATE is 0.2083\n",
    "* The Doubly Robust ATE is  0.1990\n",
    "* The Matching with Mahalanobis distance is 0.32\n",
    "* The Propensity Score Matching ATE is 0.32"
   ]
  },
  {
   "cell_type": "markdown",
   "metadata": {},
   "source": [
    "# Treatment on dANB"
   ]
  },
  {
   "cell_type": "markdown",
   "metadata": {},
   "source": [
    "Treatment and Growth collides on to dANB, but in order to find the causal association (causation) of Treatment on dANB, we have to block all backdoor paths from Treatment to dANB"
   ]
  },
  {
   "cell_type": "code",
   "execution_count": 12,
   "metadata": {},
   "outputs": [
    {
     "data": {
      "image/png": "[encoded data removed]",
      "text/plain": [
       "<Figure size 432x288 with 1 Axes>"
      ]
     },
     "metadata": {},
     "output_type": "display_data"
    }
   ],
   "source": [
    "G = nx.DiGraph()\n",
    "\n",
    "G.add_edges_from([\n",
    "    (\"Unobserved Confounders\", \"Treatment\"),\n",
    "    (\"Unobserved Confounders\", \"Time\"),\n",
    "    (\"Unobserved Confounders\", \"Growth\"),\n",
    "    (\"Time\", \"Growth\"),\n",
    "    (\"Growth\", \"dANB\"),\n",
    "    (\"Treatment\", \"dANB\"),\n",
    "    (\"Growth\", \"Growth\")\n",
    "])\n",
    "\n",
    "pos = nx.spring_layout(G)\n",
    "\n",
    "nx.draw_networkx_nodes(G, pos, node_size=500)\n",
    "nx.draw_networkx_edges(G, pos, edgelist=G.edges(), edge_color='black')\n",
    "nx.draw_networkx_labels(G, pos)\n",
    "plt.show()"
   ]
  },
  {
   "cell_type": "code",
   "execution_count": 13,
   "metadata": {},
   "outputs": [
    {
     "data": {
      "image/png": "[encoded data removed]",
      "text/plain": [
       "<Figure size 432x288 with 1 Axes>"
      ]
     },
     "metadata": {},
     "output_type": "display_data"
    }
   ],
   "source": [
    "G = nx.DiGraph()\n",
    "\n",
    "G.add_edges_from([\n",
    "    (\"Unobserved Confounders\", \"Treatment\"),\n",
    "    (\"Growth\", \"dANB\"),\n",
    "    (\"Treatment\", \"dANB\"),\n",
    "    (\"Growth\", \"Growth\")\n",
    "])\n",
    "\n",
    "pos = nx.spring_layout(G)\n",
    "\n",
    "nx.draw_networkx_nodes(G, pos, node_size=500)\n",
    "nx.draw_networkx_edges(G, pos, edgelist=G.edges(), edge_color='black')\n",
    "nx.draw_networkx_labels(G, pos)\n",
    "plt.show()"
   ]
  },
  {
   "cell_type": "markdown",
   "metadata": {},
   "source": [
    "#### Naive ATE"
   ]
  },
  {
   "cell_type": "code",
   "execution_count": 14,
   "metadata": {},
   "outputs": [
    {
     "name": "stdout",
     "output_type": "stream",
     "text": [
      "==============================================================================\n",
      "                 coef    std err          t      P>|t|      [0.025      0.975]\n",
      "------------------------------------------------------------------------------\n",
      "Intercept     -1.1636      0.174     -6.702      0.000      -1.507      -0.820\n",
      "Treatment      2.0288      0.256      7.938      0.000       1.524       2.534\n",
      "==============================================================================\n"
     ]
    }
   ],
   "source": [
    "reg_model_1 = smf.ols(\"dANB ~ Treatment\", data=data).fit()\n",
    "print(reg_model_1.summary().tables[1])"
   ]
  },
  {
   "cell_type": "markdown",
   "metadata": {},
   "source": [
    "## Regression "
   ]
  },
  {
   "cell_type": "code",
   "execution_count": 15,
   "metadata": {},
   "outputs": [
    {
     "name": "stdout",
     "output_type": "stream",
     "text": [
      "==============================================================================\n",
      "                 coef    std err          t      P>|t|      [0.025      0.975]\n",
      "------------------------------------------------------------------------------\n",
      "Intercept     -1.5600      0.181     -8.609      0.000      -1.918      -1.202\n",
      "Growth         1.1740      0.244      4.812      0.000       0.692       1.656\n",
      "Treatment      1.8560      0.240      7.724      0.000       1.381       2.331\n",
      "==============================================================================\n"
     ]
    }
   ],
   "source": [
    "model_2 = smf.ols(\"dANB ~ Growth + Treatment\", data=data).fit().summary().tables[1]\n",
    "print(model_2)"
   ]
  },
  {
   "cell_type": "markdown",
   "metadata": {},
   "source": [
    "### Propensity Score Weighting"
   ]
  },
  {
   "cell_type": "code",
   "execution_count": 16,
   "metadata": {},
   "outputs": [
    {
     "name": "stdout",
     "output_type": "stream",
     "text": [
      "==============================================================================\n",
      "                 coef    std err          t      P>|t|      [0.025      0.975]\n",
      "------------------------------------------------------------------------------\n",
      "Intercept     -1.5572      0.205     -7.609      0.000      -1.962      -1.153\n",
      "Growth         1.1681      0.242      4.834      0.000       0.690       1.646\n",
      "Treatment      1.8570      0.241      7.701      0.000       1.380       2.334\n",
      "==============================================================================\n"
     ]
    }
   ],
   "source": [
    "cls = LogisticRegression()\n",
    "cls = CalibratedClassifierCV(cls)\n",
    "                             \n",
    "\n",
    "X = data[['Growth']]\n",
    "y = data['Treatment']\n",
    "cls.fit(X, y)\n",
    "data['e'] = cls.predict_proba(X)[:,1].tolist()\n",
    "data.head()\n",
    "\n",
    "data['w'] = data['Treatment'] / data['e'] + (1 - data['Treatment']) / (1 - data['e'])\n",
    "m = smf.wls('dANB ~ Growth + Treatment', data=data, weights=data['w'])\n",
    "fitted = m.fit()\n",
    "print(fitted.summary().tables[1])"
   ]
  },
  {
   "cell_type": "markdown",
   "metadata": {},
   "source": [
    "###  Doubly robust estimator"
   ]
  },
  {
   "cell_type": "code",
   "execution_count": 17,
   "metadata": {},
   "outputs": [],
   "source": [
    "y0 = LinearRegression().fit(data[data.Treatment == 0][['Growth']], data[data.Treatment == 0]['dANB']).predict(data[['Growth']])\n",
    "y1 = LinearRegression().fit(data[data.Treatment == 1][['Growth']], data[data.Treatment == 1]['dANB']).predict(data[['Growth']])\n",
    "\n",
    "data['DR0_1'] = (1-data['Treatment']) * (data['dANB'] - y0)/(1-data['e']) + y0\n",
    "data['DR1_1'] =    data['Treatment']  * (data['dANB'] - y1)/   data['e']  + y1\n"
   ]
  },
  {
   "cell_type": "code",
   "execution_count": 18,
   "metadata": {},
   "outputs": [
    {
     "name": "stdout",
     "output_type": "stream",
     "text": [
      "The Doubly Robust ATE:  1.8563721534875373\n"
     ]
    }
   ],
   "source": [
    "ATE_DR = data['DR1_1'].mean() - data['DR0_1'].mean()\n",
    "print(\"The Doubly Robust ATE: \", ATE_DR)"
   ]
  },
  {
   "cell_type": "markdown",
   "metadata": {},
   "source": [
    "### Matching with Mahalanobis distance"
   ]
  },
  {
   "cell_type": "code",
   "execution_count": 21,
   "metadata": {},
   "outputs": [
    {
     "name": "stdout",
     "output_type": "stream",
     "text": [
      "\n",
      "Treatment Effect Estimates: Matching\n",
      "\n",
      "                     Est.       S.e.          z      P>|z|      [95% Conf. int.]\n",
      "--------------------------------------------------------------------------------\n",
      "           ATE      1.856      0.237      7.829      0.000      1.392      2.321\n",
      "           ATC      1.860      0.240      7.761      0.000      1.390      2.330\n",
      "           ATT      1.852      0.240      7.723      0.000      1.382      2.322\n",
      "\n"
     ]
    }
   ],
   "source": [
    "adjustment_set = ['Growth']\n",
    "\n",
    "causal = CausalModel(\n",
    "    Y=data['dANB'].values,\n",
    "    D=data['Treatment'].values, \n",
    "    X=data[adjustment_set].values\n",
    ")\n",
    "\n",
    "causal.est_via_matching(bias_adj=True)\n",
    "print(causal.estimates)"
   ]
  },
  {
   "cell_type": "markdown",
   "metadata": {},
   "source": [
    "### Propensity Score Matching"
   ]
  },
  {
   "cell_type": "code",
   "execution_count": 20,
   "metadata": {},
   "outputs": [
    {
     "name": "stdout",
     "output_type": "stream",
     "text": [
      "\n",
      "Treatment Effect Estimates: Matching\n",
      "\n",
      "                     Est.       S.e.          z      P>|z|      [95% Conf. int.]\n",
      "--------------------------------------------------------------------------------\n",
      "           ATE      1.856      0.237      7.829      0.000      1.392      2.321\n",
      "           ATC      1.860      0.240      7.761      0.000      1.390      2.330\n",
      "           ATT      1.852      0.240      7.723      0.000      1.382      2.322\n",
      "\n"
     ]
    }
   ],
   "source": [
    "causal = CausalModel(\n",
    "    Y=data['dANB'].values, \n",
    "    D=data['Treatment'].values,\n",
    "    X=data['e'].values\n",
    ")\n",
    "causal.est_via_matching(matches = 1, bias_adj=True)\n",
    "print(causal.estimates)"
   ]
  },
  {
   "cell_type": "markdown",
   "metadata": {},
   "source": [
    "### Results\n",
    "* The Naive ATE is 0.2028\n",
    "* The Regression ATE is 0.1856\n",
    "* The Propensity score weighting ATE is 0.1857\n",
    "* The Doubly Robust ATE is  0.1856\n",
    "* The Matching with Mahalanobis distance is 1.856\n",
    "* The Propensity Score Matching ATE is 1.856"
   ]
  },
  {
   "cell_type": "code",
   "execution_count": null,
   "metadata": {},
   "outputs": [],
   "source": []
  }
 ],
 "metadata": {
  "kernelspec": {
   "display_name": "Python 3",
   "language": "python",
   "name": "python3"
  },
  "language_info": {
   "codemirror_mode": {
    "name": "ipython",
    "version": 3
   },
   "file_extension": ".py",
   "mimetype": "text/x-python",
   "name": "python",
   "nbconvert_exporter": "python",
   "pygments_lexer": "ipython3",
   "version": "3.8.5"
  }
 },
 "nbformat": 4,
 "nbformat_minor": 5
}
