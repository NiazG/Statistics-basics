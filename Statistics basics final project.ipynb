{
 "cells": [
  {
   "cell_type": "markdown",
   "metadata": {},
   "source": [
    "# Statistics basics\n",
    "## Final project\n",
    "Good news! You are hired by some retail company to analyse transaction statistics in a retail chain. (Sorry, this is just an imaginary company so far, but if you successfully finish our program, I'm sure it will become reality.)\n",
    "\n",
    "You have to use everything that we learned so far to answer questions that are asked by your employer.\n",
    "\n",
    "Part of the questions require that you write some code that will be automatically tested with autograding. So when you are finished, please, send this work to automatic grading.\n",
    "\n",
    "The other part of questions are presented in the appropriate quiz. Answer them using your results.\n",
    "\n",
    "Finally, some problems will be assessed manually. So, please, submit your notebook to staff graded assignment as well.\n",
    "\n",
    "Note you are not allowed to use loops anywhere in this project!\n",
    "\n",
    "Let's begin!\n",
    "\n",
    "### Data\n",
    "\n",
    "There are three datasets: `customers.csv`, `purchases.csv` and `shops.csv`. They are stored in `data` folder.\n",
    "\n",
    "`customers.csv` contains information about each customer registered in loyalty program.\n",
    "\n",
    "`shops.csv` contains information about shops and special offers they organized. One shap can organize several offers and therefore there are usually several rows that correspond to the same shops. However, some shops do not organize special offers at all, but they are presented in this table nevertheless.\n",
    "\n",
    "`purchases.csv` is a purchase log. It contains information for all customers, either registered in a loyalty program (in this case we know the corresponding customer id) or not registered. One purchase can be a collection of several items, but we see only the total price of everything bought."
   ]
  },
  {
   "cell_type": "code",
   "execution_count": 1,
   "metadata": {},
   "outputs": [
    {
     "name": "stdout",
     "output_type": "stream",
     "text": [
      "customers.csv  purchases.csv  shops.csv\r\n"
     ]
    }
   ],
   "source": [
    "!ls data/"
   ]
  },
  {
   "cell_type": "markdown",
   "metadata": {},
   "source": [
    "First, let us load these datasets and make a quick glance on them."
   ]
  },
  {
   "cell_type": "markdown",
   "metadata": {},
   "source": [
    "### Problem 1 (autograded)\n",
    "Load datasets intro variables `customers`, `purchases` and `shops`. Use `pd.read_csv`."
   ]
  },
  {
   "cell_type": "code",
   "execution_count": 2,
   "metadata": {},
   "outputs": [],
   "source": [
    "import pandas as pd\n",
    "import matplotlib.pyplot as plt\n",
    "\n",
    "%matplotlib inline"
   ]
  },
  {
   "cell_type": "code",
   "execution_count": 258,
   "metadata": {
    "deletable": false,
    "nbgrader": {
     "cell_type": "code",
     "checksum": "60fce1ad93c5edf0a1167a46aaf382ad",
     "grade": false,
     "grade_id": "cell-e58f666a1342c518",
     "locked": false,
     "schema_version": 3,
     "solution": true,
     "task": false
    }
   },
   "outputs": [],
   "source": [
    "customers = pd.read_csv('data/customers.csv')\n",
    "purchases = pd.read_csv('data/purchases.csv')\n",
    "shops = pd.read_csv('data/shops.csv')"
   ]
  },
  {
   "cell_type": "code",
   "execution_count": 4,
   "metadata": {},
   "outputs": [
    {
     "data": {
      "text/plain": [
       "dtype('float64')"
      ]
     },
     "execution_count": 4,
     "metadata": {},
     "output_type": "execute_result"
    }
   ],
   "source": [
    "customers['age'].dtype"
   ]
  },
  {
   "cell_type": "code",
   "execution_count": 5,
   "metadata": {
    "deletable": false,
    "editable": false,
    "nbgrader": {
     "cell_type": "code",
     "checksum": "7db5c83a3dd9c8be9f731bd42d9d1472",
     "grade": true,
     "grade_id": "cell-4dca7fce76639f93",
     "locked": true,
     "points": 1,
     "schema_version": 3,
     "solution": false,
     "task": false
    }
   },
   "outputs": [
    {
     "name": "stdout",
     "output_type": "stream",
     "text": [
      "Great, everything loaded successfully!\n"
     ]
    }
   ],
   "source": [
    "from hashlib import md5\n",
    "import numpy as np\n",
    "\n",
    "\n",
    "def test_df(frame, digest):\n",
    "    obtained = md5(\n",
    "        \"\".join(\n",
    "            [str(x) for x in np.c_[frame.head().values, frame.tail().values]]\n",
    "        ).encode(\"utf8\")\n",
    "    ).hexdigest()\n",
    "    assert obtained == digest, \"Something wrong with files: \" + obtained\n",
    "\n",
    "\n",
    "test_df(customers, \"a8c3a3d5d5f93d721f7f98564228a484\")\n",
    "test_df(purchases, \"1d4ffa7e30dcd29ab1d47d3731967a49\")\n",
    "test_df(shops, \"e017f3f83ad39610a7d82a54480fb98f\")\n",
    "print(\"Great, everything loaded successfully!\")"
   ]
  },
  {
   "cell_type": "markdown",
   "metadata": {},
   "source": [
    "### Problem 2 (quiz)"
   ]
  },
  {
   "cell_type": "markdown",
   "metadata": {},
   "source": [
    "Investigate dataframes and answer the following questions (in the appropriate Quiz):\n",
    "\n",
    "1. What is the type of variable `customer_id` in the dataset `purchases`?\n",
    "2. What is the type of variable `age` in the dataset `customers`?\n",
    "\n",
    "Note that you have to provide your answers based on the meaning of the data, not on the Python object types of the corresponding column."
   ]
  },
  {
   "cell_type": "code",
   "execution_count": 6,
   "metadata": {},
   "outputs": [
    {
     "data": {
      "text/plain": [
       "0        0.0\n",
       "1        0.0\n",
       "2        0.0\n",
       "3        0.0\n",
       "4        0.0\n",
       "        ... \n",
       "40397    NaN\n",
       "40398    NaN\n",
       "40399    NaN\n",
       "40400    NaN\n",
       "40401    NaN\n",
       "Name: customer_id, Length: 40402, dtype: float64"
      ]
     },
     "execution_count": 6,
     "metadata": {},
     "output_type": "execute_result"
    }
   ],
   "source": [
    "purchases['customer_id']"
   ]
  },
  {
   "cell_type": "code",
   "execution_count": 7,
   "metadata": {},
   "outputs": [
    {
     "data": {
      "text/plain": [
       "0      71.0\n",
       "1      21.0\n",
       "2      36.0\n",
       "3      38.0\n",
       "4      51.0\n",
       "       ... \n",
       "862    53.0\n",
       "863    62.0\n",
       "864    23.0\n",
       "865    28.0\n",
       "866    22.0\n",
       "Name: age, Length: 867, dtype: float64"
      ]
     },
     "execution_count": 7,
     "metadata": {},
     "output_type": "execute_result"
    }
   ],
   "source": [
    "customers['age']"
   ]
  },
  {
   "cell_type": "markdown",
   "metadata": {},
   "source": [
    "<b>Answer</b>: Costomer id is a categorical, because it shows the particular costomer. It is just naming each costomer by its name with numbers. We can't count this numbers even though tehy are float type. The age of customers is numerical, we can find out the average or do other calculations. "
   ]
  },
  {
   "cell_type": "markdown",
   "metadata": {},
   "source": [
    "### Problem 3 (SGA)\n",
    "Let us consider column `total_price` in the dataset `purchases`. May we assume that this column is an i.i.d. sample from some random variable? Write your answer and full explanation in the cell below.\n"
   ]
  },
  {
   "cell_type": "code",
   "execution_count": 8,
   "metadata": {},
   "outputs": [
    {
     "data": {
      "text/html": [
       "<div>\n",
       "<style scoped>\n",
       "    .dataframe tbody tr th:only-of-type {\n",
       "        vertical-align: middle;\n",
       "    }\n",
       "\n",
       "    .dataframe tbody tr th {\n",
       "        vertical-align: top;\n",
       "    }\n",
       "\n",
       "    .dataframe thead th {\n",
       "        text-align: right;\n",
       "    }\n",
       "</style>\n",
       "<table border=\"1\" class=\"dataframe\">\n",
       "  <thead>\n",
       "    <tr style=\"text-align: right;\">\n",
       "      <th></th>\n",
       "      <th>customer_id</th>\n",
       "      <th>date</th>\n",
       "      <th>shop_id</th>\n",
       "      <th>total_price</th>\n",
       "    </tr>\n",
       "  </thead>\n",
       "  <tbody>\n",
       "    <tr>\n",
       "      <th>0</th>\n",
       "      <td>0.0</td>\n",
       "      <td>2018-05-04</td>\n",
       "      <td>40</td>\n",
       "      <td>289.673291</td>\n",
       "    </tr>\n",
       "    <tr>\n",
       "      <th>1</th>\n",
       "      <td>0.0</td>\n",
       "      <td>2019-01-26</td>\n",
       "      <td>40</td>\n",
       "      <td>1316.898901</td>\n",
       "    </tr>\n",
       "    <tr>\n",
       "      <th>2</th>\n",
       "      <td>0.0</td>\n",
       "      <td>2018-11-18</td>\n",
       "      <td>42</td>\n",
       "      <td>159.414367</td>\n",
       "    </tr>\n",
       "    <tr>\n",
       "      <th>3</th>\n",
       "      <td>0.0</td>\n",
       "      <td>2018-05-12</td>\n",
       "      <td>42</td>\n",
       "      <td>808.791649</td>\n",
       "    </tr>\n",
       "    <tr>\n",
       "      <th>4</th>\n",
       "      <td>0.0</td>\n",
       "      <td>2019-04-20</td>\n",
       "      <td>42</td>\n",
       "      <td>1207.855038</td>\n",
       "    </tr>\n",
       "  </tbody>\n",
       "</table>\n",
       "</div>"
      ],
      "text/plain": [
       "   customer_id        date  shop_id  total_price\n",
       "0          0.0  2018-05-04       40   289.673291\n",
       "1          0.0  2019-01-26       40  1316.898901\n",
       "2          0.0  2018-11-18       42   159.414367\n",
       "3          0.0  2018-05-12       42   808.791649\n",
       "4          0.0  2019-04-20       42  1207.855038"
      ]
     },
     "execution_count": 8,
     "metadata": {},
     "output_type": "execute_result"
    }
   ],
   "source": [
    "purchases[:5]"
   ]
  },
  {
   "cell_type": "markdown",
   "metadata": {},
   "source": [
    "<b>Answer:</b>\n",
    "The total_price columns represent the daily prices for each costomer_id and each shop_id. The total prices of the first row and the second row are independent, beacuse the occurance of one row doesn't give any information as to whether the other event occurred or not. As the variable is about the total price it is expected that it is simply the sum of all prices and for each variable it is same and the column total_price is identically distributed."
   ]
  },
  {
   "cell_type": "markdown",
   "metadata": {},
   "source": [
    "### Problem 4 (quiz)\n",
    "Visualise distribution of variable `age` in the dataset `customers` using appropriate visualization tool.\n"
   ]
  },
  {
   "cell_type": "code",
   "execution_count": 9,
   "metadata": {},
   "outputs": [],
   "source": [
    "import matplotlib.pyplot as plt\n",
    "%matplotlib inline"
   ]
  },
  {
   "cell_type": "code",
   "execution_count": 10,
   "metadata": {
    "deletable": false,
    "nbgrader": {
     "cell_type": "code",
     "checksum": "1a56b597e9dfc428ad9081e6b8c47403",
     "grade": false,
     "grade_id": "cell-bf36c8a6ba51056f",
     "locked": false,
     "schema_version": 3,
     "solution": true,
     "task": false
    }
   },
   "outputs": [
    {
     "data": {
      "text/plain": [
       "(array([ 72., 119., 100., 117.,  92., 115.,  91.,  62.,  43.,  13.]),\n",
       " array([12. , 19.6, 27.2, 34.8, 42.4, 50. , 57.6, 65.2, 72.8, 80.4, 88. ]),\n",
       " <a list of 10 Patch objects>)"
      ]
     },
     "execution_count": 10,
     "metadata": {},
     "output_type": "execute_result"
    },
    {
     "data": {
      "image/png": "[encoded data removed]",
      "text/plain": [
       "<Figure size 432x288 with 1 Axes>"
      ]
     },
     "metadata": {
      "needs_background": "light"
     },
     "output_type": "display_data"
    }
   ],
   "source": [
    "age = customers['age']\n",
    "plt.hist(age, bins=10)"
   ]
  },
  {
   "cell_type": "markdown",
   "metadata": {},
   "source": [
    "### Problem 5 (quiz)\n",
    "Your employer is going to provide two special offers for all registered customers based on the customer age. They want to pick some threshold age, and offer one special program to customers who are younger than this threshold age and another special program to customers who are older than this age. They want to choose the threshold in such a way that the number of potential participants of both programs coincide (or at least be as close to each other as possible). What is the threshold?"
   ]
  },
  {
   "cell_type": "code",
   "execution_count": 11,
   "metadata": {
    "deletable": false,
    "nbgrader": {
     "cell_type": "code",
     "checksum": "7ac50c16cc264cc6c56ba4b4db8927d8",
     "grade": false,
     "grade_id": "cell-3441bc9e50418569",
     "locked": false,
     "schema_version": 3,
     "solution": true,
     "task": false
    }
   },
   "outputs": [
    {
     "data": {
      "text/plain": [
       "43.0"
      ]
     },
     "execution_count": 11,
     "metadata": {},
     "output_type": "execute_result"
    }
   ],
   "source": [
    "age.median()"
   ]
  },
  {
   "cell_type": "markdown",
   "metadata": {},
   "source": [
    "### Problem 6 (quiz)\n",
    "\n",
    "Let us visualize how purchases are distributed around a year. For example, it is known that December is a hot month for retail due to Christmas. Will you see it in the data? Are there any other tendencies we will see?\n",
    "\n",
    "To do it, we have to extract a month from the `date` variable of `purchases` table and create a new variable (new dataframe column) that contains this month, then plot distribution of this variable. There is a special data type in pandas to represent date and time. However, by default `pd.read_csv` does not try to guess that a particular column contains something that looks like a date and reads it just as a column of strings. So let's convert this column manually using function `pd.to_datetime` first:\n"
   ]
  },
  {
   "cell_type": "code",
   "execution_count": 12,
   "metadata": {},
   "outputs": [],
   "source": [
    "purchases[\"date\"] = pd.to_datetime(purchases[\"date\"])"
   ]
  },
  {
   "cell_type": "markdown",
   "metadata": {},
   "source": [
    "Let's check that `date` has correct `dtype`:"
   ]
  },
  {
   "cell_type": "code",
   "execution_count": 13,
   "metadata": {},
   "outputs": [
    {
     "data": {
      "text/plain": [
       "dtype('<M8[ns]')"
      ]
     },
     "execution_count": 13,
     "metadata": {},
     "output_type": "execute_result"
    }
   ],
   "source": [
    "purchases[\"date\"].dtype"
   ]
  },
  {
   "cell_type": "code",
   "execution_count": 14,
   "metadata": {},
   "outputs": [
    {
     "data": {
      "text/plain": [
       "0       2018-05-04\n",
       "1       2019-01-26\n",
       "2       2018-11-18\n",
       "3       2018-05-12\n",
       "4       2019-04-20\n",
       "           ...    \n",
       "40397   2018-05-05\n",
       "40398   2018-09-29\n",
       "40399   2018-10-31\n",
       "40400   2019-02-16\n",
       "40401   2018-12-15\n",
       "Name: date, Length: 40402, dtype: datetime64[ns]"
      ]
     },
     "execution_count": 14,
     "metadata": {},
     "output_type": "execute_result"
    }
   ],
   "source": [
    "purchases[\"date\"]"
   ]
  },
  {
   "cell_type": "markdown",
   "metadata": {},
   "source": [
    "This should return something like `dtype('datetime64[ns]')` or `dtype('<M8[ns]')`. It is much easier to work with dates when they are converted to native datetime format instead of strings. For example, you can find the difference between two dates and do a lot of other things. To extract different features of date like month of even day of week, one can use `.dt` accessor (similar to using `.str` accessor to access string methods), see [documentation](https://pandas.pydata.org/pandas-docs/stable/user_guide/timeseries.html#time-date-components) for details. For example, this is how we can extract day of week (Monday=0, Sunday=6):"
   ]
  },
  {
   "cell_type": "code",
   "execution_count": 15,
   "metadata": {},
   "outputs": [
    {
     "data": {
      "text/plain": [
       "0         5\n",
       "1         1\n",
       "2        11\n",
       "3         5\n",
       "4         4\n",
       "         ..\n",
       "40397     5\n",
       "40398     9\n",
       "40399    10\n",
       "40400     2\n",
       "40401    12\n",
       "Name: date, Length: 40402, dtype: int64"
      ]
     },
     "execution_count": 15,
     "metadata": {},
     "output_type": "execute_result"
    }
   ],
   "source": [
    "purchases[\"date\"].dt.month"
   ]
  },
  {
   "cell_type": "markdown",
   "metadata": {},
   "source": [
    "Now let us return to our problem here. We want to make a plot that shows how many purchases we have per month. In other words, we want to create and consider new variable `month`. This is a categorical variable. Use an appropriate tool to visualize it.\n",
    "\n",
    "Make this bar plot. \n",
    "\n",
    "**Hint.** To sort the values on the horizontal axis one can use `.sort_index()`.\n"
   ]
  },
  {
   "cell_type": "code",
   "execution_count": 16,
   "metadata": {
    "deletable": false,
    "nbgrader": {
     "cell_type": "code",
     "checksum": "fe3fa9d208804f31db3a95680239a8e9",
     "grade": false,
     "grade_id": "cell-fab958f31a3bfdb3",
     "locked": false,
     "schema_version": 3,
     "solution": true,
     "task": false
    }
   },
   "outputs": [
    {
     "data": {
      "text/plain": [
       "(array([2688.,    0., 2710.,    0., 3252.,    0., 2790.,    0.,    0.,\n",
       "        6717.,    0., 3473.,    0., 2817.,    0., 3000.,    0.,    0.,\n",
       "        2987.,    0., 2863.,    0., 2991.,    0., 4114.]),\n",
       " array([ 1.  ,  1.44,  1.88,  2.32,  2.76,  3.2 ,  3.64,  4.08,  4.52,\n",
       "         4.96,  5.4 ,  5.84,  6.28,  6.72,  7.16,  7.6 ,  8.04,  8.48,\n",
       "         8.92,  9.36,  9.8 , 10.24, 10.68, 11.12, 11.56, 12.  ]),\n",
       " <a list of 25 Patch objects>)"
      ]
     },
     "execution_count": 16,
     "metadata": {},
     "output_type": "execute_result"
    },
    {
     "data": {
      "image/png": "[encoded data removed]",
      "text/plain": [
       "<Figure size 432x288 with 1 Axes>"
      ]
     },
     "metadata": {
      "needs_background": "light"
     },
     "output_type": "display_data"
    }
   ],
   "source": [
    "# your code here\n",
    "month = purchases[\"date\"].dt.month\n",
    "plt.hist(month, bins=25)"
   ]
  },
  {
   "cell_type": "markdown",
   "metadata": {},
   "source": [
    "### Problem 7 (SGA)\n",
    "\n",
    "What's wrong with May? Why do we have so many purchases? Are there any unknown holidays in this month? Or it's some other reason? Investigate your data and give an answer. Write it in the cell below. Add new cells to include code / explanations as necessary."
   ]
  },
  {
   "cell_type": "markdown",
   "metadata": {},
   "source": [
    "<h4>First version: special day</h4>\n",
    "I will try to fidure out the holiday or another special day"
   ]
  },
  {
   "cell_type": "code",
   "execution_count": 339,
   "metadata": {},
   "outputs": [],
   "source": [
    "may = purchases[month == 5]\n",
    "may_sum = may.groupby(['date']).sum()\n",
    "may_sort = may_sum.sort_values(by='total_price',ascending=False)\n"
   ]
  },
  {
   "cell_type": "code",
   "execution_count": 341,
   "metadata": {},
   "outputs": [
    {
     "data": {
      "text/html": [
       "<div>\n",
       "<style scoped>\n",
       "    .dataframe tbody tr th:only-of-type {\n",
       "        vertical-align: middle;\n",
       "    }\n",
       "\n",
       "    .dataframe tbody tr th {\n",
       "        vertical-align: top;\n",
       "    }\n",
       "\n",
       "    .dataframe thead th {\n",
       "        text-align: right;\n",
       "    }\n",
       "</style>\n",
       "<table border=\"1\" class=\"dataframe\">\n",
       "  <thead>\n",
       "    <tr style=\"text-align: right;\">\n",
       "      <th></th>\n",
       "      <th>customer_id</th>\n",
       "      <th>shop_id</th>\n",
       "      <th>total_price</th>\n",
       "    </tr>\n",
       "    <tr>\n",
       "      <th>date</th>\n",
       "      <th></th>\n",
       "      <th></th>\n",
       "      <th></th>\n",
       "    </tr>\n",
       "  </thead>\n",
       "  <tbody>\n",
       "    <tr>\n",
       "      <th>2018-05-05</th>\n",
       "      <td>307754.0</td>\n",
       "      <td>26389</td>\n",
       "      <td>315037.619902</td>\n",
       "    </tr>\n",
       "    <tr>\n",
       "      <th>2019-05-04</th>\n",
       "      <td>140282.0</td>\n",
       "      <td>11238</td>\n",
       "      <td>121138.432682</td>\n",
       "    </tr>\n",
       "    <tr>\n",
       "      <th>2018-05-12</th>\n",
       "      <td>131793.0</td>\n",
       "      <td>10689</td>\n",
       "      <td>117821.011855</td>\n",
       "    </tr>\n",
       "    <tr>\n",
       "      <th>2019-05-25</th>\n",
       "      <td>138753.0</td>\n",
       "      <td>10976</td>\n",
       "      <td>117473.760107</td>\n",
       "    </tr>\n",
       "    <tr>\n",
       "      <th>2019-05-18</th>\n",
       "      <td>126503.0</td>\n",
       "      <td>10458</td>\n",
       "      <td>113185.392513</td>\n",
       "    </tr>\n",
       "    <tr>\n",
       "      <th>2018-05-19</th>\n",
       "      <td>122565.0</td>\n",
       "      <td>10863</td>\n",
       "      <td>112206.253613</td>\n",
       "    </tr>\n",
       "    <tr>\n",
       "      <th>2018-05-26</th>\n",
       "      <td>107970.0</td>\n",
       "      <td>9045</td>\n",
       "      <td>98763.284407</td>\n",
       "    </tr>\n",
       "    <tr>\n",
       "      <th>2019-05-11</th>\n",
       "      <td>119238.0</td>\n",
       "      <td>9248</td>\n",
       "      <td>97122.278202</td>\n",
       "    </tr>\n",
       "    <tr>\n",
       "      <th>2018-05-03</th>\n",
       "      <td>208724.0</td>\n",
       "      <td>18048</td>\n",
       "      <td>75898.830176</td>\n",
       "    </tr>\n",
       "    <tr>\n",
       "      <th>2019-05-26</th>\n",
       "      <td>47594.0</td>\n",
       "      <td>5083</td>\n",
       "      <td>48696.438825</td>\n",
       "    </tr>\n",
       "    <tr>\n",
       "      <th>2019-05-19</th>\n",
       "      <td>45494.0</td>\n",
       "      <td>3916</td>\n",
       "      <td>43540.277580</td>\n",
       "    </tr>\n",
       "    <tr>\n",
       "      <th>2019-05-05</th>\n",
       "      <td>48238.0</td>\n",
       "      <td>4233</td>\n",
       "      <td>41063.856706</td>\n",
       "    </tr>\n",
       "    <tr>\n",
       "      <th>2018-05-04</th>\n",
       "      <td>114418.0</td>\n",
       "      <td>9951</td>\n",
       "      <td>39400.146775</td>\n",
       "    </tr>\n",
       "    <tr>\n",
       "      <th>2018-05-27</th>\n",
       "      <td>52856.0</td>\n",
       "      <td>4172</td>\n",
       "      <td>38558.246449</td>\n",
       "    </tr>\n",
       "    <tr>\n",
       "      <th>2018-05-13</th>\n",
       "      <td>44652.0</td>\n",
       "      <td>3772</td>\n",
       "      <td>37369.952309</td>\n",
       "    </tr>\n",
       "  </tbody>\n",
       "</table>\n",
       "</div>"
      ],
      "text/plain": [
       "            customer_id  shop_id    total_price\n",
       "date                                           \n",
       "2018-05-05     307754.0    26389  315037.619902\n",
       "2019-05-04     140282.0    11238  121138.432682\n",
       "2018-05-12     131793.0    10689  117821.011855\n",
       "2019-05-25     138753.0    10976  117473.760107\n",
       "2019-05-18     126503.0    10458  113185.392513\n",
       "2018-05-19     122565.0    10863  112206.253613\n",
       "2018-05-26     107970.0     9045   98763.284407\n",
       "2019-05-11     119238.0     9248   97122.278202\n",
       "2018-05-03     208724.0    18048   75898.830176\n",
       "2019-05-26      47594.0     5083   48696.438825\n",
       "2019-05-19      45494.0     3916   43540.277580\n",
       "2019-05-05      48238.0     4233   41063.856706\n",
       "2018-05-04     114418.0     9951   39400.146775\n",
       "2018-05-27      52856.0     4172   38558.246449\n",
       "2018-05-13      44652.0     3772   37369.952309"
      ]
     },
     "execution_count": 341,
     "metadata": {},
     "output_type": "execute_result"
    }
   ],
   "source": [
    "may_sort[:15]"
   ]
  },
  {
   "cell_type": "code",
   "execution_count": 342,
   "metadata": {},
   "outputs": [],
   "source": [
    "may[\"date\"] = pd.to_datetime(may[\"date\"])"
   ]
  },
  {
   "cell_type": "code",
   "execution_count": 343,
   "metadata": {},
   "outputs": [],
   "source": [
    "may['weekday'] = may['date'].dt.weekday\n",
    "may['year'] = may['date'].dt.year\n",
    "may2018 = may[may.year == 2018.0]\n",
    "may2019 = may[may.year == 2019.0]"
   ]
  },
  {
   "cell_type": "code",
   "execution_count": 344,
   "metadata": {},
   "outputs": [],
   "source": [
    "may2018group = may2018.groupby(\"date\").agg(\n",
    "    {\n",
    "        \"customer_id\": \"first\",\n",
    "        \"shop_id\": \"first\",\n",
    "        \"total_price\": \"sum\",\n",
    "        'weekday': 'first'\n",
    "    }\n",
    ")"
   ]
  },
  {
   "cell_type": "code",
   "execution_count": 345,
   "metadata": {},
   "outputs": [
    {
     "data": {
      "text/plain": [
       "[<matplotlib.lines.Line2D at 0x7fcfc9ed7990>]"
      ]
     },
     "execution_count": 345,
     "metadata": {},
     "output_type": "execute_result"
    },
    {
     "data": {
      "image/png": "[encoded data removed]",
      "text/plain": [
       "<Figure size 432x288 with 1 Axes>"
      ]
     },
     "metadata": {
      "needs_background": "light"
     },
     "output_type": "display_data"
    }
   ],
   "source": [
    "plt.plot(may2018group.total_price, may2018group.index)"
   ]
  },
  {
   "cell_type": "code",
   "execution_count": 346,
   "metadata": {},
   "outputs": [],
   "source": [
    "may2018group_wd = may2018.groupby(\"weekday\").agg(\n",
    "    {\n",
    "        \"customer_id\": \"first\",\n",
    "        \"shop_id\": \"first\",\n",
    "        \"total_price\": \"sum\",\n",
    "    }\n",
    ")"
   ]
  },
  {
   "cell_type": "code",
   "execution_count": 347,
   "metadata": {},
   "outputs": [
    {
     "data": {
      "text/plain": [
       "[<matplotlib.lines.Line2D at 0x7fcfc9e0af50>]"
      ]
     },
     "execution_count": 347,
     "metadata": {},
     "output_type": "execute_result"
    },
    {
     "data": {
      "image/png": "[encoded data removed]",
      "text/plain": [
       "<Figure size 432x288 with 1 Axes>"
      ]
     },
     "metadata": {
      "needs_background": "light"
     },
     "output_type": "display_data"
    }
   ],
   "source": [
    "plt.plot(may2018group_wd.total_price)"
   ]
  },
  {
   "cell_type": "code",
   "execution_count": 348,
   "metadata": {},
   "outputs": [],
   "source": [
    "may2019group_d = may2019.groupby(\"date\").agg(\n",
    "    {\n",
    "        \"customer_id\": \"first\",\n",
    "        \"shop_id\": \"first\",\n",
    "        \"total_price\": \"sum\",\n",
    "        'weekday': 'first'\n",
    "    }\n",
    ")"
   ]
  },
  {
   "cell_type": "code",
   "execution_count": 349,
   "metadata": {},
   "outputs": [
    {
     "data": {
      "text/plain": [
       "[<matplotlib.lines.Line2D at 0x7fcfca08c4d0>]"
      ]
     },
     "execution_count": 349,
     "metadata": {},
     "output_type": "execute_result"
    },
    {
     "data": {
      "image/png": "[encoded data removed]",
      "text/plain": [
       "<Figure size 432x288 with 1 Axes>"
      ]
     },
     "metadata": {
      "needs_background": "light"
     },
     "output_type": "display_data"
    }
   ],
   "source": [
    "plt.plot(may2019group_d.total_price)"
   ]
  },
  {
   "cell_type": "code",
   "execution_count": 350,
   "metadata": {},
   "outputs": [],
   "source": [
    "may2019group_wd = may2019.groupby(\"weekday\").agg(\n",
    "    {\n",
    "        \"customer_id\": \"first\",\n",
    "        \"shop_id\": \"first\",\n",
    "        \"total_price\": \"sum\",\n",
    "    }\n",
    ")"
   ]
  },
  {
   "cell_type": "code",
   "execution_count": 351,
   "metadata": {},
   "outputs": [
    {
     "data": {
      "text/plain": [
       "[<matplotlib.lines.Line2D at 0x7fcfc9d65b10>]"
      ]
     },
     "execution_count": 351,
     "metadata": {},
     "output_type": "execute_result"
    },
    {
     "data": {
      "image/png": "[encoded data removed]",
      "text/plain": [
       "<Figure size 432x288 with 1 Axes>"
      ]
     },
     "metadata": {
      "needs_background": "light"
     },
     "output_type": "display_data"
    }
   ],
   "source": [
    "plt.plot(may2019group_wd.total_price)"
   ]
  },
  {
   "cell_type": "markdown",
   "metadata": {},
   "source": [
    "<h4>First version conclusion:</h4>\n",
    "We can't say that there is a special day or a holiday during the may, which consists the most expenditures of the customers. We can assume that it can be the 5th May according to the highest total_price, but it is only in 2018, but in 2019 the 5th May total_price is not high. After that I thought to check the total_price values with dates and weekdays for 2018 and 2019. There is a trend o be seen that the customers are shopping more during the Friday and Saturdays. It means that they don't have any special holiday, but they have only weekdays expenditures.\n"
   ]
  },
  {
   "cell_type": "code",
   "execution_count": 371,
   "metadata": {},
   "outputs": [
    {
     "data": {
      "text/html": [
       "<div>\n",
       "<style scoped>\n",
       "    .dataframe tbody tr th:only-of-type {\n",
       "        vertical-align: middle;\n",
       "    }\n",
       "\n",
       "    .dataframe tbody tr th {\n",
       "        vertical-align: top;\n",
       "    }\n",
       "\n",
       "    .dataframe thead th {\n",
       "        text-align: right;\n",
       "    }\n",
       "</style>\n",
       "<table border=\"1\" class=\"dataframe\">\n",
       "  <thead>\n",
       "    <tr style=\"text-align: right;\">\n",
       "      <th></th>\n",
       "      <th>shop_id</th>\n",
       "      <th>offer_begin</th>\n",
       "      <th>offer_end</th>\n",
       "      <th>month_begin</th>\n",
       "      <th>month_end</th>\n",
       "      <th>year</th>\n",
       "    </tr>\n",
       "  </thead>\n",
       "  <tbody>\n",
       "    <tr>\n",
       "      <th>0</th>\n",
       "      <td>0</td>\n",
       "      <td>2019-02-28</td>\n",
       "      <td>2019-03-13</td>\n",
       "      <td>2.0</td>\n",
       "      <td>3.0</td>\n",
       "      <td>2019.0</td>\n",
       "    </tr>\n",
       "    <tr>\n",
       "      <th>1</th>\n",
       "      <td>0</td>\n",
       "      <td>2018-07-22</td>\n",
       "      <td>2018-08-10</td>\n",
       "      <td>7.0</td>\n",
       "      <td>8.0</td>\n",
       "      <td>2018.0</td>\n",
       "    </tr>\n",
       "    <tr>\n",
       "      <th>2</th>\n",
       "      <td>0</td>\n",
       "      <td>2018-09-21</td>\n",
       "      <td>2018-09-27</td>\n",
       "      <td>9.0</td>\n",
       "      <td>9.0</td>\n",
       "      <td>2018.0</td>\n",
       "    </tr>\n",
       "    <tr>\n",
       "      <th>5</th>\n",
       "      <td>3</td>\n",
       "      <td>2019-03-26</td>\n",
       "      <td>2019-04-03</td>\n",
       "      <td>3.0</td>\n",
       "      <td>4.0</td>\n",
       "      <td>2019.0</td>\n",
       "    </tr>\n",
       "    <tr>\n",
       "      <th>6</th>\n",
       "      <td>4</td>\n",
       "      <td>2018-08-28</td>\n",
       "      <td>2018-09-28</td>\n",
       "      <td>8.0</td>\n",
       "      <td>9.0</td>\n",
       "      <td>2018.0</td>\n",
       "    </tr>\n",
       "    <tr>\n",
       "      <th>...</th>\n",
       "      <td>...</td>\n",
       "      <td>...</td>\n",
       "      <td>...</td>\n",
       "      <td>...</td>\n",
       "      <td>...</td>\n",
       "      <td>...</td>\n",
       "    </tr>\n",
       "    <tr>\n",
       "      <th>178</th>\n",
       "      <td>72</td>\n",
       "      <td>2018-05-07</td>\n",
       "      <td>2018-05-26</td>\n",
       "      <td>5.0</td>\n",
       "      <td>5.0</td>\n",
       "      <td>2018.0</td>\n",
       "    </tr>\n",
       "    <tr>\n",
       "      <th>179</th>\n",
       "      <td>73</td>\n",
       "      <td>2019-05-08</td>\n",
       "      <td>2019-06-11</td>\n",
       "      <td>5.0</td>\n",
       "      <td>6.0</td>\n",
       "      <td>2019.0</td>\n",
       "    </tr>\n",
       "    <tr>\n",
       "      <th>180</th>\n",
       "      <td>74</td>\n",
       "      <td>2018-09-14</td>\n",
       "      <td>2018-10-12</td>\n",
       "      <td>9.0</td>\n",
       "      <td>10.0</td>\n",
       "      <td>2018.0</td>\n",
       "    </tr>\n",
       "    <tr>\n",
       "      <th>181</th>\n",
       "      <td>74</td>\n",
       "      <td>2018-12-08</td>\n",
       "      <td>2019-01-10</td>\n",
       "      <td>12.0</td>\n",
       "      <td>1.0</td>\n",
       "      <td>2018.0</td>\n",
       "    </tr>\n",
       "    <tr>\n",
       "      <th>182</th>\n",
       "      <td>74</td>\n",
       "      <td>2018-08-22</td>\n",
       "      <td>2018-08-28</td>\n",
       "      <td>8.0</td>\n",
       "      <td>8.0</td>\n",
       "      <td>2018.0</td>\n",
       "    </tr>\n",
       "  </tbody>\n",
       "</table>\n",
       "<p>175 rows × 6 columns</p>\n",
       "</div>"
      ],
      "text/plain": [
       "     shop_id offer_begin   offer_end  month_begin  month_end    year\n",
       "0          0  2019-02-28  2019-03-13          2.0        3.0  2019.0\n",
       "1          0  2018-07-22  2018-08-10          7.0        8.0  2018.0\n",
       "2          0  2018-09-21  2018-09-27          9.0        9.0  2018.0\n",
       "5          3  2019-03-26  2019-04-03          3.0        4.0  2019.0\n",
       "6          4  2018-08-28  2018-09-28          8.0        9.0  2018.0\n",
       "..       ...         ...         ...          ...        ...     ...\n",
       "178       72  2018-05-07  2018-05-26          5.0        5.0  2018.0\n",
       "179       73  2019-05-08  2019-06-11          5.0        6.0  2019.0\n",
       "180       74  2018-09-14  2018-10-12          9.0       10.0  2018.0\n",
       "181       74  2018-12-08  2019-01-10         12.0        1.0  2018.0\n",
       "182       74  2018-08-22  2018-08-28          8.0        8.0  2018.0\n",
       "\n",
       "[175 rows x 6 columns]"
      ]
     },
     "execution_count": 371,
     "metadata": {},
     "output_type": "execute_result"
    }
   ],
   "source": [
    "shops[shops.year"
   ]
  },
  {
   "cell_type": "markdown",
   "metadata": {},
   "source": [
    "<h4>Second version: offers</h4>"
   ]
  },
  {
   "cell_type": "code",
   "execution_count": 261,
   "metadata": {},
   "outputs": [],
   "source": [
    "date_begin = pd.to_datetime(shops['offer_begin'])\n",
    "date_end = pd.to_datetime(shops['offer_end'])"
   ]
  },
  {
   "cell_type": "code",
   "execution_count": 262,
   "metadata": {},
   "outputs": [],
   "source": [
    "shops['month_begin'] = date_begin.dt.month\n",
    "shops['month_end'] = date_end.dt.month\n",
    "shops['year'] = date_begin.dt.year"
   ]
  },
  {
   "cell_type": "code",
   "execution_count": 263,
   "metadata": {},
   "outputs": [],
   "source": [
    "shops = shops.dropna()"
   ]
  },
  {
   "cell_type": "code",
   "execution_count": 266,
   "metadata": {},
   "outputs": [
    {
     "data": {
      "text/plain": [
       "(array([10.,  0.,  6.,  0., 11.,  0., 13.,  0., 29.,  0., 18.,  0.,  0.,\n",
       "        14.,  0., 18.,  0., 10.,  0.,  4.,  0.,  8.,  0., 34.]),\n",
       " array([ 1.        ,  1.45833333,  1.91666667,  2.375     ,  2.83333333,\n",
       "         3.29166667,  3.75      ,  4.20833333,  4.66666667,  5.125     ,\n",
       "         5.58333333,  6.04166667,  6.5       ,  6.95833333,  7.41666667,\n",
       "         7.875     ,  8.33333333,  8.79166667,  9.25      ,  9.70833333,\n",
       "        10.16666667, 10.625     , 11.08333333, 11.54166667, 12.        ]),\n",
       " <a list of 24 Patch objects>)"
      ]
     },
     "execution_count": 266,
     "metadata": {},
     "output_type": "execute_result"
    },
    {
     "data": {
      "image/png": "[encoded data removed]",
      "text/plain": [
       "<Figure size 432x288 with 1 Axes>"
      ]
     },
     "metadata": {
      "needs_background": "light"
     },
     "output_type": "display_data"
    }
   ],
   "source": [
    "plt.hist(shops.month_begin, bins=24)"
   ]
  },
  {
   "cell_type": "code",
   "execution_count": 267,
   "metadata": {},
   "outputs": [
    {
     "data": {
      "text/plain": [
       "(array([28.,  0.,  9.,  0., 10.,  0.,  9.,  0., 21.,  0., 25.,  0.,  0.,\n",
       "        14.,  0., 14.,  0., 20.,  0.,  7.,  0.,  4.,  0., 14.]),\n",
       " array([ 1.        ,  1.45833333,  1.91666667,  2.375     ,  2.83333333,\n",
       "         3.29166667,  3.75      ,  4.20833333,  4.66666667,  5.125     ,\n",
       "         5.58333333,  6.04166667,  6.5       ,  6.95833333,  7.41666667,\n",
       "         7.875     ,  8.33333333,  8.79166667,  9.25      ,  9.70833333,\n",
       "        10.16666667, 10.625     , 11.08333333, 11.54166667, 12.        ]),\n",
       " <a list of 24 Patch objects>)"
      ]
     },
     "execution_count": 267,
     "metadata": {},
     "output_type": "execute_result"
    },
    {
     "data": {
      "image/png": "[encoded data removed]",
      "text/plain": [
       "<Figure size 432x288 with 1 Axes>"
      ]
     },
     "metadata": {
      "needs_background": "light"
     },
     "output_type": "display_data"
    }
   ],
   "source": [
    "plt.hist(shops.month_end, bins=24)"
   ]
  },
  {
   "cell_type": "code",
   "execution_count": 273,
   "metadata": {},
   "outputs": [],
   "source": [
    "shops2018 = shops[shops.year == 2018.0]\n",
    "shops2019 = shops[shops.year == 2019.0]"
   ]
  },
  {
   "cell_type": "code",
   "execution_count": 370,
   "metadata": {},
   "outputs": [
    {
     "data": {
      "text/plain": [
       "(array([12.,  0.,  0., 17.,  0.,  0., 14.,  0.,  0.,  0., 18.,  0.,  0.,\n",
       "        10.,  0.,  0.,  0.,  4.,  0.,  0.,  8.,  0.,  0., 34.]),\n",
       " array([ 5.        ,  5.29166667,  5.58333333,  5.875     ,  6.16666667,\n",
       "         6.45833333,  6.75      ,  7.04166667,  7.33333333,  7.625     ,\n",
       "         7.91666667,  8.20833333,  8.5       ,  8.79166667,  9.08333333,\n",
       "         9.375     ,  9.66666667,  9.95833333, 10.25      , 10.54166667,\n",
       "        10.83333333, 11.125     , 11.41666667, 11.70833333, 12.        ]),\n",
       " <a list of 24 Patch objects>)"
      ]
     },
     "execution_count": 370,
     "metadata": {},
     "output_type": "execute_result"
    },
    {
     "data": {
      "image/png": "[encoded data removed]",
      "text/plain": [
       "<Figure size 432x288 with 1 Axes>"
      ]
     },
     "metadata": {
      "needs_background": "light"
     },
     "output_type": "display_data"
    }
   ],
   "source": [
    "plt.hist(shops2018.month_begin, bins=24)"
   ]
  },
  {
   "cell_type": "code",
   "execution_count": 352,
   "metadata": {},
   "outputs": [
    {
     "data": {
      "text/plain": [
       "(array([10.,  0.,  0.,  0.,  6.,  0.,  0.,  0.,  0., 11.,  0.,  0.,  0.,\n",
       "         0., 13.,  0.,  0.,  0.,  0., 17.,  0.,  0.,  0.,  1.]),\n",
       " array([1.        , 1.20833333, 1.41666667, 1.625     , 1.83333333,\n",
       "        2.04166667, 2.25      , 2.45833333, 2.66666667, 2.875     ,\n",
       "        3.08333333, 3.29166667, 3.5       , 3.70833333, 3.91666667,\n",
       "        4.125     , 4.33333333, 4.54166667, 4.75      , 4.95833333,\n",
       "        5.16666667, 5.375     , 5.58333333, 5.79166667, 6.        ]),\n",
       " <a list of 24 Patch objects>)"
      ]
     },
     "execution_count": 352,
     "metadata": {},
     "output_type": "execute_result"
    },
    {
     "data": {
      "image/png": "[encoded data removed]",
      "text/plain": [
       "<Figure size 432x288 with 1 Axes>"
      ]
     },
     "metadata": {
      "needs_background": "light"
     },
     "output_type": "display_data"
    }
   ],
   "source": [
    "plt.hist(shops2019.month_begin, bins=24)"
   ]
  },
  {
   "cell_type": "markdown",
   "metadata": {},
   "source": [
    "<h4> Second version conclusion: </h4>\n",
    "We can see that May is the second month after the December to begin the offers. We can assume that it a reason to have more sales in this month, because customers tried to buy more during the special offers.\n",
    "The weird thing that we don't have any data about the offers after the 6th month in 2019. But this data is not so important as we are looking the May. "
   ]
  },
  {
   "cell_type": "markdown",
   "metadata": {},
   "source": [
    "### Problem 8 (quiz)\n",
    "We see that people go to shop more often in December. But do they spend more per each visit? Let us draw a bar plot that shows the average purchase total price per month of year. Use `groupby` with the `month` variable you (hopefully) created earlier."
   ]
  },
  {
   "cell_type": "code",
   "execution_count": 21,
   "metadata": {
    "deletable": false,
    "nbgrader": {
     "cell_type": "code",
     "checksum": "89a009b51313bca59f1a9c7b9f6d33ef",
     "grade": false,
     "grade_id": "cell-12691d80596bff43",
     "locked": false,
     "schema_version": 3,
     "solution": true,
     "task": false
    }
   },
   "outputs": [],
   "source": [
    "month_mean = purchases.groupby(month).mean()"
   ]
  },
  {
   "cell_type": "code",
   "execution_count": 22,
   "metadata": {},
   "outputs": [
    {
     "data": {
      "text/plain": [
       "<BarContainer object of 12 artists>"
      ]
     },
     "execution_count": 22,
     "metadata": {},
     "output_type": "execute_result"
    },
    {
     "data": {
      "image/png": "[encoded data removed]",
      "text/plain": [
       "<Figure size 720x360 with 1 Axes>"
      ]
     },
     "metadata": {
      "needs_background": "light"
     },
     "output_type": "display_data"
    }
   ],
   "source": [
    "fig = plt.figure(figsize = (10, 5))\n",
    "plt.bar(np.arange(1,13), list(month_mean['total_price']), width=0.5)"
   ]
  },
  {
   "cell_type": "markdown",
   "metadata": {},
   "source": [
    "### Problem 9 (quiz)\n",
    "Okay, we see that there is a difference between December's mean purchase price and other month's. But we also see that the average price is different in different months (not including December), probably due to some random factors. Is it possible that December behaviour is just a result of fluke? To answer this question, let us compare two months, for example, December and November, in a statistically rigorous way.\n",
    "\n",
    "To do so, let us find the average purchase price in each month in each shop (hint: use `.pivot_table`), then extract two samples: one contains average purchase prices in December and another in November. The number of elements in each sample should be equal to the number of shops. Is it true that they are different? Use the statistical test that suits this problem the best with a two-sided alternative. Then answer the question in a quiz.\n"
   ]
  },
  {
   "cell_type": "code",
   "execution_count": 23,
   "metadata": {},
   "outputs": [],
   "source": [
    "nov = purchases[month == 11]\n",
    "dec = purchases[month == 12]"
   ]
  },
  {
   "cell_type": "code",
   "execution_count": 24,
   "metadata": {
    "deletable": false,
    "nbgrader": {
     "cell_type": "code",
     "checksum": "4ed485535496665eafb92eaa02df641f",
     "grade": false,
     "grade_id": "cell-15f7626650b863ab",
     "locked": false,
     "schema_version": 3,
     "solution": true,
     "task": false
    }
   },
   "outputs": [
    {
     "data": {
      "text/plain": [
       "(         total_price\n",
       " shop_id             \n",
       " 0         243.490975\n",
       " 1         307.988105\n",
       " 2         377.453485\n",
       " 3         250.578623\n",
       " 4         216.818569\n",
       " ...              ...\n",
       " 70        392.298768\n",
       " 71        529.627675\n",
       " 72        305.593160\n",
       " 73        299.018209\n",
       " 74        334.744391\n",
       " \n",
       " [75 rows x 1 columns],\n",
       "          total_price\n",
       " shop_id             \n",
       " 0         229.031047\n",
       " 1         273.595408\n",
       " 2         224.476430\n",
       " 3         219.825518\n",
       " 4         205.284412\n",
       " ...              ...\n",
       " 70        202.900924\n",
       " 71        376.025772\n",
       " 72        247.884335\n",
       " 73        198.580037\n",
       " 74        180.911598\n",
       " \n",
       " [75 rows x 1 columns])"
      ]
     },
     "execution_count": 24,
     "metadata": {},
     "output_type": "execute_result"
    }
   ],
   "source": [
    "nov_mean = pd.pivot_table(nov, index='shop_id', values=['total_price'], aggfunc='mean')\n",
    "dec_mean = pd.pivot_table(dec, index='shop_id', values=['total_price'], aggfunc='mean')\n",
    "dec_mean, nov_mean"
   ]
  },
  {
   "cell_type": "code",
   "execution_count": 25,
   "metadata": {},
   "outputs": [],
   "source": [
    "difference = dec_mean - nov_mean"
   ]
  },
  {
   "cell_type": "code",
   "execution_count": 26,
   "metadata": {},
   "outputs": [
    {
     "data": {
      "text/html": [
       "<div>\n",
       "<style scoped>\n",
       "    .dataframe tbody tr th:only-of-type {\n",
       "        vertical-align: middle;\n",
       "    }\n",
       "\n",
       "    .dataframe tbody tr th {\n",
       "        vertical-align: top;\n",
       "    }\n",
       "\n",
       "    .dataframe thead th {\n",
       "        text-align: right;\n",
       "    }\n",
       "</style>\n",
       "<table border=\"1\" class=\"dataframe\">\n",
       "  <thead>\n",
       "    <tr style=\"text-align: right;\">\n",
       "      <th></th>\n",
       "      <th>total_price</th>\n",
       "    </tr>\n",
       "    <tr>\n",
       "      <th>shop_id</th>\n",
       "      <th></th>\n",
       "    </tr>\n",
       "  </thead>\n",
       "  <tbody>\n",
       "    <tr>\n",
       "      <th>0</th>\n",
       "      <td>14.459928</td>\n",
       "    </tr>\n",
       "    <tr>\n",
       "      <th>1</th>\n",
       "      <td>34.392697</td>\n",
       "    </tr>\n",
       "    <tr>\n",
       "      <th>2</th>\n",
       "      <td>152.977054</td>\n",
       "    </tr>\n",
       "    <tr>\n",
       "      <th>3</th>\n",
       "      <td>30.753105</td>\n",
       "    </tr>\n",
       "    <tr>\n",
       "      <th>4</th>\n",
       "      <td>11.534157</td>\n",
       "    </tr>\n",
       "  </tbody>\n",
       "</table>\n",
       "</div>"
      ],
      "text/plain": [
       "         total_price\n",
       "shop_id             \n",
       "0          14.459928\n",
       "1          34.392697\n",
       "2         152.977054\n",
       "3          30.753105\n",
       "4          11.534157"
      ]
     },
     "execution_count": 26,
     "metadata": {},
     "output_type": "execute_result"
    }
   ],
   "source": [
    "difference[:5]"
   ]
  },
  {
   "cell_type": "code",
   "execution_count": 27,
   "metadata": {},
   "outputs": [],
   "source": [
    "import scipy.stats\n",
    "t_stat, pvalue = scipy.stats.ttest_1samp(difference, 0)"
   ]
  },
  {
   "cell_type": "code",
   "execution_count": 28,
   "metadata": {},
   "outputs": [
    {
     "data": {
      "text/plain": [
       "12.0"
      ]
     },
     "execution_count": 28,
     "metadata": {},
     "output_type": "execute_result"
    }
   ],
   "source": [
    "round(t_stat[0])"
   ]
  },
  {
   "cell_type": "markdown",
   "metadata": {},
   "source": [
    "<h4>Conclusion:</h4>the pvalue is very small number and is smaller than the significant level of 5% or even 1%. We can conclude that the averages are different. "
   ]
  },
  {
   "cell_type": "markdown",
   "metadata": {},
   "source": [
    "### Problem 10 (autograded)"
   ]
  },
  {
   "cell_type": "markdown",
   "metadata": {},
   "source": [
    "Now let us investigate customer behaviour. First of all we are interested in the relation between customers' age and their spendings per each purchase. To study this relation, first join tables `purchases` and `customers` in such a way to obtain information on customer's age for each purchase. Call the resulting table `purchases_c`. This table should contain all purchases by the registered customers, but rows that correspond to unregistered customers (not present in `customers`) should be dropped. The resulting table also should contain column `customer_id`."
   ]
  },
  {
   "cell_type": "code",
   "execution_count": 29,
   "metadata": {},
   "outputs": [
    {
     "data": {
      "text/html": [
       "<div>\n",
       "<style scoped>\n",
       "    .dataframe tbody tr th:only-of-type {\n",
       "        vertical-align: middle;\n",
       "    }\n",
       "\n",
       "    .dataframe tbody tr th {\n",
       "        vertical-align: top;\n",
       "    }\n",
       "\n",
       "    .dataframe thead th {\n",
       "        text-align: right;\n",
       "    }\n",
       "</style>\n",
       "<table border=\"1\" class=\"dataframe\">\n",
       "  <thead>\n",
       "    <tr style=\"text-align: right;\">\n",
       "      <th></th>\n",
       "      <th>customer_id</th>\n",
       "      <th>date</th>\n",
       "      <th>shop_id</th>\n",
       "      <th>total_price</th>\n",
       "    </tr>\n",
       "  </thead>\n",
       "  <tbody>\n",
       "    <tr>\n",
       "      <th>0</th>\n",
       "      <td>0.0</td>\n",
       "      <td>2018-05-04</td>\n",
       "      <td>40</td>\n",
       "      <td>289.673291</td>\n",
       "    </tr>\n",
       "    <tr>\n",
       "      <th>1</th>\n",
       "      <td>0.0</td>\n",
       "      <td>2019-01-26</td>\n",
       "      <td>40</td>\n",
       "      <td>1316.898901</td>\n",
       "    </tr>\n",
       "    <tr>\n",
       "      <th>2</th>\n",
       "      <td>0.0</td>\n",
       "      <td>2018-11-18</td>\n",
       "      <td>42</td>\n",
       "      <td>159.414367</td>\n",
       "    </tr>\n",
       "  </tbody>\n",
       "</table>\n",
       "</div>"
      ],
      "text/plain": [
       "   customer_id       date  shop_id  total_price\n",
       "0          0.0 2018-05-04       40   289.673291\n",
       "1          0.0 2019-01-26       40  1316.898901\n",
       "2          0.0 2018-11-18       42   159.414367"
      ]
     },
     "execution_count": 29,
     "metadata": {},
     "output_type": "execute_result"
    }
   ],
   "source": [
    "purchases[:3]"
   ]
  },
  {
   "cell_type": "code",
   "execution_count": 30,
   "metadata": {},
   "outputs": [
    {
     "data": {
      "text/html": [
       "<div>\n",
       "<style scoped>\n",
       "    .dataframe tbody tr th:only-of-type {\n",
       "        vertical-align: middle;\n",
       "    }\n",
       "\n",
       "    .dataframe tbody tr th {\n",
       "        vertical-align: top;\n",
       "    }\n",
       "\n",
       "    .dataframe thead th {\n",
       "        text-align: right;\n",
       "    }\n",
       "</style>\n",
       "<table border=\"1\" class=\"dataframe\">\n",
       "  <thead>\n",
       "    <tr style=\"text-align: right;\">\n",
       "      <th></th>\n",
       "      <th>customer id</th>\n",
       "      <th>age</th>\n",
       "    </tr>\n",
       "  </thead>\n",
       "  <tbody>\n",
       "    <tr>\n",
       "      <th>0</th>\n",
       "      <td>1149</td>\n",
       "      <td>71.0</td>\n",
       "    </tr>\n",
       "    <tr>\n",
       "      <th>1</th>\n",
       "      <td>750</td>\n",
       "      <td>21.0</td>\n",
       "    </tr>\n",
       "    <tr>\n",
       "      <th>2</th>\n",
       "      <td>428</td>\n",
       "      <td>36.0</td>\n",
       "    </tr>\n",
       "  </tbody>\n",
       "</table>\n",
       "</div>"
      ],
      "text/plain": [
       "   customer id   age\n",
       "0         1149  71.0\n",
       "1          750  21.0\n",
       "2          428  36.0"
      ]
     },
     "execution_count": 30,
     "metadata": {},
     "output_type": "execute_result"
    }
   ],
   "source": [
    "customers[:3]"
   ]
  },
  {
   "cell_type": "code",
   "execution_count": 31,
   "metadata": {
    "deletable": false,
    "nbgrader": {
     "cell_type": "code",
     "checksum": "52e933cdce5d156ee08d3506d5200d32",
     "grade": false,
     "grade_id": "cell-def585989383682a",
     "locked": false,
     "schema_version": 3,
     "solution": true,
     "task": false
    }
   },
   "outputs": [],
   "source": [
    "purchases_c = pd.merge(purchases, customers, left_on = 'customer_id', right_on = 'customer id')"
   ]
  },
  {
   "cell_type": "code",
   "execution_count": 32,
   "metadata": {
    "deletable": false,
    "editable": false,
    "nbgrader": {
     "cell_type": "code",
     "checksum": "d4ead409d4eb3d8756ddaaa216f14b9e",
     "grade": true,
     "grade_id": "cell-27f4df593483d1bc",
     "locked": true,
     "points": 1,
     "schema_version": 3,
     "solution": false,
     "task": false
    }
   },
   "outputs": [],
   "source": [
    "assert (\n",
    "    purchases_c[lambda x: x[\"customer_id\"] == 123][\"age\"]\n",
    "    == customers.set_index(\"customer id\").loc[123][\"age\"]\n",
    ").all()\n",
    "assert (\n",
    "    purchases_c[lambda x: x[\"customer_id\"] == 12][\"age\"]\n",
    "    == customers.set_index(\"customer id\").loc[12][\"age\"]\n",
    ").all()\n",
    "assert sum(purchases_c[\"customer_id\"]) == 17548008.0"
   ]
  },
  {
   "cell_type": "markdown",
   "metadata": {},
   "source": [
    "### Problem 11 (autograded)"
   ]
  },
  {
   "cell_type": "code",
   "execution_count": 33,
   "metadata": {},
   "outputs": [
    {
     "data": {
      "text/html": [
       "<div>\n",
       "<style scoped>\n",
       "    .dataframe tbody tr th:only-of-type {\n",
       "        vertical-align: middle;\n",
       "    }\n",
       "\n",
       "    .dataframe tbody tr th {\n",
       "        vertical-align: top;\n",
       "    }\n",
       "\n",
       "    .dataframe thead th {\n",
       "        text-align: right;\n",
       "    }\n",
       "</style>\n",
       "<table border=\"1\" class=\"dataframe\">\n",
       "  <thead>\n",
       "    <tr style=\"text-align: right;\">\n",
       "      <th></th>\n",
       "      <th>customer_id</th>\n",
       "      <th>date</th>\n",
       "      <th>shop_id</th>\n",
       "      <th>total_price</th>\n",
       "      <th>customer id</th>\n",
       "      <th>age</th>\n",
       "    </tr>\n",
       "  </thead>\n",
       "  <tbody>\n",
       "    <tr>\n",
       "      <th>0</th>\n",
       "      <td>0.0</td>\n",
       "      <td>2018-05-04</td>\n",
       "      <td>40</td>\n",
       "      <td>289.673291</td>\n",
       "      <td>0</td>\n",
       "      <td>38.0</td>\n",
       "    </tr>\n",
       "    <tr>\n",
       "      <th>1</th>\n",
       "      <td>0.0</td>\n",
       "      <td>2019-01-26</td>\n",
       "      <td>40</td>\n",
       "      <td>1316.898901</td>\n",
       "      <td>0</td>\n",
       "      <td>38.0</td>\n",
       "    </tr>\n",
       "    <tr>\n",
       "      <th>2</th>\n",
       "      <td>0.0</td>\n",
       "      <td>2018-11-18</td>\n",
       "      <td>42</td>\n",
       "      <td>159.414367</td>\n",
       "      <td>0</td>\n",
       "      <td>38.0</td>\n",
       "    </tr>\n",
       "    <tr>\n",
       "      <th>3</th>\n",
       "      <td>0.0</td>\n",
       "      <td>2018-05-12</td>\n",
       "      <td>42</td>\n",
       "      <td>808.791649</td>\n",
       "      <td>0</td>\n",
       "      <td>38.0</td>\n",
       "    </tr>\n",
       "    <tr>\n",
       "      <th>4</th>\n",
       "      <td>0.0</td>\n",
       "      <td>2019-04-20</td>\n",
       "      <td>42</td>\n",
       "      <td>1207.855038</td>\n",
       "      <td>0</td>\n",
       "      <td>38.0</td>\n",
       "    </tr>\n",
       "    <tr>\n",
       "      <th>...</th>\n",
       "      <td>...</td>\n",
       "      <td>...</td>\n",
       "      <td>...</td>\n",
       "      <td>...</td>\n",
       "      <td>...</td>\n",
       "      <td>...</td>\n",
       "    </tr>\n",
       "    <tr>\n",
       "      <th>28794</th>\n",
       "      <td>1212.0</td>\n",
       "      <td>2018-11-08</td>\n",
       "      <td>60</td>\n",
       "      <td>46.653544</td>\n",
       "      <td>1212</td>\n",
       "      <td>24.0</td>\n",
       "    </tr>\n",
       "    <tr>\n",
       "      <th>28795</th>\n",
       "      <td>1212.0</td>\n",
       "      <td>2018-07-20</td>\n",
       "      <td>60</td>\n",
       "      <td>50.592132</td>\n",
       "      <td>1212</td>\n",
       "      <td>24.0</td>\n",
       "    </tr>\n",
       "    <tr>\n",
       "      <th>28796</th>\n",
       "      <td>1212.0</td>\n",
       "      <td>2019-04-18</td>\n",
       "      <td>15</td>\n",
       "      <td>95.459705</td>\n",
       "      <td>1212</td>\n",
       "      <td>24.0</td>\n",
       "    </tr>\n",
       "    <tr>\n",
       "      <th>28797</th>\n",
       "      <td>1212.0</td>\n",
       "      <td>2019-02-14</td>\n",
       "      <td>60</td>\n",
       "      <td>69.968788</td>\n",
       "      <td>1212</td>\n",
       "      <td>24.0</td>\n",
       "    </tr>\n",
       "    <tr>\n",
       "      <th>28798</th>\n",
       "      <td>1212.0</td>\n",
       "      <td>2018-07-13</td>\n",
       "      <td>60</td>\n",
       "      <td>129.335559</td>\n",
       "      <td>1212</td>\n",
       "      <td>24.0</td>\n",
       "    </tr>\n",
       "  </tbody>\n",
       "</table>\n",
       "<p>28799 rows × 6 columns</p>\n",
       "</div>"
      ],
      "text/plain": [
       "       customer_id       date  shop_id  total_price  customer id   age\n",
       "0              0.0 2018-05-04       40   289.673291            0  38.0\n",
       "1              0.0 2019-01-26       40  1316.898901            0  38.0\n",
       "2              0.0 2018-11-18       42   159.414367            0  38.0\n",
       "3              0.0 2018-05-12       42   808.791649            0  38.0\n",
       "4              0.0 2019-04-20       42  1207.855038            0  38.0\n",
       "...            ...        ...      ...          ...          ...   ...\n",
       "28794       1212.0 2018-11-08       60    46.653544         1212  24.0\n",
       "28795       1212.0 2018-07-20       60    50.592132         1212  24.0\n",
       "28796       1212.0 2019-04-18       15    95.459705         1212  24.0\n",
       "28797       1212.0 2019-02-14       60    69.968788         1212  24.0\n",
       "28798       1212.0 2018-07-13       60   129.335559         1212  24.0\n",
       "\n",
       "[28799 rows x 6 columns]"
      ]
     },
     "execution_count": 33,
     "metadata": {},
     "output_type": "execute_result"
    }
   ],
   "source": [
    "purchases_c"
   ]
  },
  {
   "cell_type": "markdown",
   "metadata": {},
   "source": [
    "To visualize the relation between customer's age and their spendings, we have to transform our table in such a way that one observation (row) corresponds to one customer. Let us do it by groupping and aggregating. Transform table `purchases_c` to find average `total_price` for each customer and keep column `age`. Indexes of the new dataframe should be customer id's. Put the resulting dataframe to variable `purchases_c_mean`.\n"
   ]
  },
  {
   "cell_type": "code",
   "execution_count": 34,
   "metadata": {
    "deletable": false,
    "nbgrader": {
     "cell_type": "code",
     "checksum": "9a1dc0250b79d8890516e7bc760f6b92",
     "grade": false,
     "grade_id": "cell-e76268ef19a434d2",
     "locked": false,
     "schema_version": 3,
     "solution": true,
     "task": false
    }
   },
   "outputs": [],
   "source": [
    "purchases_c_mean = purchases_c.groupby(['customer_id']).mean()"
   ]
  },
  {
   "cell_type": "code",
   "execution_count": 35,
   "metadata": {},
   "outputs": [
    {
     "data": {
      "text/plain": [
       "207    118.815184\n",
       "208     74.939087\n",
       "209    199.913834\n",
       "210    155.236146\n",
       "211    224.517900\n",
       "          ...    \n",
       "279    193.608554\n",
       "280    221.909384\n",
       "281     52.169438\n",
       "282    134.647473\n",
       "283      6.711840\n",
       "Name: total_price, Length: 77, dtype: float64"
      ]
     },
     "execution_count": 35,
     "metadata": {},
     "output_type": "execute_result"
    }
   ],
   "source": [
    "purchases_c.query(\"customer_id == 12\")[\"total_price\"]"
   ]
  },
  {
   "cell_type": "code",
   "execution_count": 36,
   "metadata": {},
   "outputs": [
    {
     "data": {
      "text/plain": [
       "137.1136927412783"
      ]
     },
     "execution_count": 36,
     "metadata": {},
     "output_type": "execute_result"
    }
   ],
   "source": [
    "purchases_c_mean.loc[12]['total_price']"
   ]
  },
  {
   "cell_type": "code",
   "execution_count": 37,
   "metadata": {
    "deletable": false,
    "editable": false,
    "nbgrader": {
     "cell_type": "code",
     "checksum": "e4efabf877bd870229a3df3daad7c59e",
     "grade": true,
     "grade_id": "cell-8f565c5b33fd9384",
     "locked": true,
     "points": 1,
     "schema_version": 3,
     "solution": false,
     "task": false
    }
   },
   "outputs": [],
   "source": [
    "assert (\n",
    "    purchases_c_mean.loc[12][\"total_price\"]\n",
    "    == purchases_c.query(\"customer_id == 12\")[\"total_price\"].mean()\n",
    ")\n",
    "assert (\n",
    "    purchases_c_mean.loc[125][\"total_price\"]\n",
    "    == purchases_c.query(\"customer_id == 125\")[\"total_price\"].mean()\n",
    ")"
   ]
  },
  {
   "cell_type": "markdown",
   "metadata": {},
   "source": [
    "### Problem 12 (quiz)\n",
    "Use dataframe `purchases_c_mean` to visualize the relation between customer's `age` (horizontal axis) and their average `total_price` (vertical axis)."
   ]
  },
  {
   "cell_type": "code",
   "execution_count": 38,
   "metadata": {
    "deletable": false,
    "nbgrader": {
     "cell_type": "code",
     "checksum": "c455540eb28600e30bf18c62c5196b1a",
     "grade": false,
     "grade_id": "cell-74bf2c586a384ceb",
     "locked": false,
     "schema_version": 3,
     "solution": true,
     "task": false
    }
   },
   "outputs": [
    {
     "data": {
      "text/plain": [
       "<matplotlib.collections.PathCollection at 0x7fcfe39e5e50>"
      ]
     },
     "execution_count": 38,
     "metadata": {},
     "output_type": "execute_result"
    },
    {
     "data": {
      "image/png": "[encoded data removed]",
      "text/plain": [
       "<Figure size 432x288 with 1 Axes>"
      ]
     },
     "metadata": {
      "needs_background": "light"
     },
     "output_type": "display_data"
    }
   ],
   "source": [
    "age = purchases_c_mean[{'age', 'total_price'}].dropna()\n",
    "plt.scatter(age['age'], age['total_price'])"
   ]
  },
  {
   "cell_type": "markdown",
   "metadata": {},
   "source": [
    "### Problem 13 (quiz)\n",
    "Find Pearson's correlation coefficient between age and total price."
   ]
  },
  {
   "cell_type": "code",
   "execution_count": 39,
   "metadata": {},
   "outputs": [
    {
     "data": {
      "text/html": [
       "<div>\n",
       "<style scoped>\n",
       "    .dataframe tbody tr th:only-of-type {\n",
       "        vertical-align: middle;\n",
       "    }\n",
       "\n",
       "    .dataframe tbody tr th {\n",
       "        vertical-align: top;\n",
       "    }\n",
       "\n",
       "    .dataframe thead th {\n",
       "        text-align: right;\n",
       "    }\n",
       "</style>\n",
       "<table border=\"1\" class=\"dataframe\">\n",
       "  <thead>\n",
       "    <tr style=\"text-align: right;\">\n",
       "      <th></th>\n",
       "      <th>shop_id</th>\n",
       "      <th>total_price</th>\n",
       "      <th>customer id</th>\n",
       "      <th>age</th>\n",
       "    </tr>\n",
       "  </thead>\n",
       "  <tbody>\n",
       "    <tr>\n",
       "      <th>shop_id</th>\n",
       "      <td>1.000000</td>\n",
       "      <td>0.049298</td>\n",
       "      <td>-0.020280</td>\n",
       "      <td>-0.017528</td>\n",
       "    </tr>\n",
       "    <tr>\n",
       "      <th>total_price</th>\n",
       "      <td>0.049298</td>\n",
       "      <td>1.000000</td>\n",
       "      <td>-0.039190</td>\n",
       "      <td>0.165395</td>\n",
       "    </tr>\n",
       "    <tr>\n",
       "      <th>customer id</th>\n",
       "      <td>-0.020280</td>\n",
       "      <td>-0.039190</td>\n",
       "      <td>1.000000</td>\n",
       "      <td>0.001827</td>\n",
       "    </tr>\n",
       "    <tr>\n",
       "      <th>age</th>\n",
       "      <td>-0.017528</td>\n",
       "      <td>0.165395</td>\n",
       "      <td>0.001827</td>\n",
       "      <td>1.000000</td>\n",
       "    </tr>\n",
       "  </tbody>\n",
       "</table>\n",
       "</div>"
      ],
      "text/plain": [
       "              shop_id  total_price  customer id       age\n",
       "shop_id      1.000000     0.049298    -0.020280 -0.017528\n",
       "total_price  0.049298     1.000000    -0.039190  0.165395\n",
       "customer id -0.020280    -0.039190     1.000000  0.001827\n",
       "age         -0.017528     0.165395     0.001827  1.000000"
      ]
     },
     "execution_count": 39,
     "metadata": {},
     "output_type": "execute_result"
    }
   ],
   "source": [
    "corr = purchases_c_mean.corr(method='pearson')\n",
    "corr"
   ]
  },
  {
   "cell_type": "code",
   "execution_count": 40,
   "metadata": {
    "deletable": false,
    "nbgrader": {
     "cell_type": "code",
     "checksum": "142f6d72b0d3cebe66beb17daca23275",
     "grade": false,
     "grade_id": "cell-b49d12358f261cf2",
     "locked": false,
     "schema_version": 3,
     "solution": true,
     "task": false
    }
   },
   "outputs": [
    {
     "data": {
      "text/plain": [
       "0.1653950812077192"
      ]
     },
     "execution_count": 40,
     "metadata": {},
     "output_type": "execute_result"
    }
   ],
   "source": [
    "corr['age']['total_price']"
   ]
  },
  {
   "cell_type": "markdown",
   "metadata": {},
   "source": [
    "### Problem 14 (quiz)\n",
    "We found correlation in the data present on the previous step and made some conclusions based on this data. However, we have to make sure that we can generalize our conclusion to the corresponding population. To do it, let us perform a statistical test of the significance of correlation. This can be done with `scipy.stats.pearsonr`. However, our data contains `NaN`'s in column `age` (there are registered customers with unknown age). Use method `.dropna()` to remove such rows from the dataset, then perform statistical testing with `pearsonr`. This function returns a two-tuple: first value is correlation coefficient and the second is p-value that corresponds to a test where the null hypothesis is that the correlation in population is zero."
   ]
  },
  {
   "cell_type": "code",
   "execution_count": 41,
   "metadata": {},
   "outputs": [],
   "source": [
    "from scipy.stats import pearsonr\n",
    "pearson, pvalue = pearsonr(age['age'], age['total_price'])"
   ]
  },
  {
   "cell_type": "code",
   "execution_count": 42,
   "metadata": {
    "deletable": false,
    "nbgrader": {
     "cell_type": "code",
     "checksum": "3f8a3f77a0351a26d6bcf13ec670f662",
     "grade": false,
     "grade_id": "cell-952ef9e07ecc7e07",
     "locked": false,
     "schema_version": 3,
     "solution": true,
     "task": false
    }
   },
   "outputs": [
    {
     "data": {
      "text/plain": [
       "1.811078910330637e-06"
      ]
     },
     "execution_count": 42,
     "metadata": {},
     "output_type": "execute_result"
    }
   ],
   "source": [
    "pvalue"
   ]
  },
  {
   "cell_type": "markdown",
   "metadata": {},
   "source": [
    "### Problem 15 (autograded)\n",
    "Now we are going to do the main investigation. We want to understand how special offers in our shops affect customers' behaviour. To do it, we have to identify those purchases that are made during special offers. This can be a bit tricky: for each purchase we know its date and shop id. For each shop we also know the dates of all special offers (there can be several). So for each purchase we have to compare its date with dates of all offers that took place in the corresponding shop.\n",
    "\n",
    "As a first step, let us try to join `purchases_c` with `shops`. Name this table `full_df_preliminary`."
   ]
  },
  {
   "cell_type": "code",
   "execution_count": 43,
   "metadata": {},
   "outputs": [],
   "source": [
    "full_df_preliminary = pd.merge(purchases_c, shops)"
   ]
  },
  {
   "cell_type": "code",
   "execution_count": 44,
   "metadata": {
    "deletable": false,
    "nbgrader": {
     "cell_type": "code",
     "checksum": "37d37965a3fe7cf29bb129834f736c47",
     "grade": false,
     "grade_id": "cell-3202f7f2e9be6c36",
     "locked": false,
     "schema_version": 3,
     "solution": true,
     "task": false
    }
   },
   "outputs": [
    {
     "data": {
      "text/html": [
       "<div>\n",
       "<style scoped>\n",
       "    .dataframe tbody tr th:only-of-type {\n",
       "        vertical-align: middle;\n",
       "    }\n",
       "\n",
       "    .dataframe tbody tr th {\n",
       "        vertical-align: top;\n",
       "    }\n",
       "\n",
       "    .dataframe thead th {\n",
       "        text-align: right;\n",
       "    }\n",
       "</style>\n",
       "<table border=\"1\" class=\"dataframe\">\n",
       "  <thead>\n",
       "    <tr style=\"text-align: right;\">\n",
       "      <th></th>\n",
       "      <th>customer_id</th>\n",
       "      <th>date</th>\n",
       "      <th>shop_id</th>\n",
       "      <th>total_price</th>\n",
       "      <th>customer id</th>\n",
       "      <th>age</th>\n",
       "      <th>offer_begin</th>\n",
       "      <th>offer_end</th>\n",
       "    </tr>\n",
       "  </thead>\n",
       "  <tbody>\n",
       "    <tr>\n",
       "      <th>0</th>\n",
       "      <td>0.0</td>\n",
       "      <td>2018-05-04</td>\n",
       "      <td>40</td>\n",
       "      <td>289.673291</td>\n",
       "      <td>0</td>\n",
       "      <td>38.0</td>\n",
       "      <td>2018-08-15</td>\n",
       "      <td>2018-09-10</td>\n",
       "    </tr>\n",
       "    <tr>\n",
       "      <th>1</th>\n",
       "      <td>0.0</td>\n",
       "      <td>2019-01-26</td>\n",
       "      <td>40</td>\n",
       "      <td>1316.898901</td>\n",
       "      <td>0</td>\n",
       "      <td>38.0</td>\n",
       "      <td>2018-08-15</td>\n",
       "      <td>2018-09-10</td>\n",
       "    </tr>\n",
       "    <tr>\n",
       "      <th>2</th>\n",
       "      <td>0.0</td>\n",
       "      <td>2019-06-01</td>\n",
       "      <td>40</td>\n",
       "      <td>341.922336</td>\n",
       "      <td>0</td>\n",
       "      <td>38.0</td>\n",
       "      <td>2018-08-15</td>\n",
       "      <td>2018-09-10</td>\n",
       "    </tr>\n",
       "    <tr>\n",
       "      <th>3</th>\n",
       "      <td>0.0</td>\n",
       "      <td>2018-12-22</td>\n",
       "      <td>40</td>\n",
       "      <td>936.012095</td>\n",
       "      <td>0</td>\n",
       "      <td>38.0</td>\n",
       "      <td>2018-08-15</td>\n",
       "      <td>2018-09-10</td>\n",
       "    </tr>\n",
       "    <tr>\n",
       "      <th>4</th>\n",
       "      <td>0.0</td>\n",
       "      <td>2018-06-24</td>\n",
       "      <td>40</td>\n",
       "      <td>1005.693540</td>\n",
       "      <td>0</td>\n",
       "      <td>38.0</td>\n",
       "      <td>2018-08-15</td>\n",
       "      <td>2018-09-10</td>\n",
       "    </tr>\n",
       "  </tbody>\n",
       "</table>\n",
       "</div>"
      ],
      "text/plain": [
       "   customer_id       date  shop_id  total_price  customer id   age  \\\n",
       "0          0.0 2018-05-04       40   289.673291            0  38.0   \n",
       "1          0.0 2019-01-26       40  1316.898901            0  38.0   \n",
       "2          0.0 2019-06-01       40   341.922336            0  38.0   \n",
       "3          0.0 2018-12-22       40   936.012095            0  38.0   \n",
       "4          0.0 2018-06-24       40  1005.693540            0  38.0   \n",
       "\n",
       "  offer_begin   offer_end  \n",
       "0  2018-08-15  2018-09-10  \n",
       "1  2018-08-15  2018-09-10  \n",
       "2  2018-08-15  2018-09-10  \n",
       "3  2018-08-15  2018-09-10  \n",
       "4  2018-08-15  2018-09-10  "
      ]
     },
     "execution_count": 44,
     "metadata": {},
     "output_type": "execute_result"
    }
   ],
   "source": [
    "full_df_preliminary.head()"
   ]
  },
  {
   "cell_type": "code",
   "execution_count": 45,
   "metadata": {
    "deletable": false,
    "editable": false,
    "nbgrader": {
     "cell_type": "code",
     "checksum": "e638ccfb467cd7758d68cc80d186f2f4",
     "grade": true,
     "grade_id": "cell-36bc4666e56a90b9",
     "locked": true,
     "points": 1,
     "schema_version": 3,
     "solution": false,
     "task": false
    }
   },
   "outputs": [],
   "source": [
    "assert (\n",
    "    full_df_preliminary.query('date == \"2019-04-24\" and customer_id == 555.0')[\n",
    "        \"offer_begin\"\n",
    "    ].iloc[0]\n",
    "    == \"2018-08-15\"\n",
    ")\n",
    "assert (\n",
    "    full_df_preliminary.query('date == \"2018-08-24\" and customer_id == 686.0').max()[\n",
    "        \"offer_end\"\n",
    "    ]\n",
    "    == \"2019-01-21\"\n",
    ")"
   ]
  },
  {
   "cell_type": "markdown",
   "metadata": {},
   "source": [
    "### Problem 16 (autograded)\n",
    "Let us investigate the table `full_df_preliminary`. Each row of this table corresponds to some purchase. However, for some shops we have several special offers and therefore several rows in the table `shops`. During the join each purchase is joined to all rows of `shops` that correspond to a particular shop. Therefore, purchases are duplicated, and we lost information on which rows in `full_df_preliminary` correspond to which purchase. (For example, the last two rows seem to correspond to the same purchase, but can we be sure?) This is due to the fact that table `purchases_c` don't have any explicit column with purchase identifier. Let us add it. As each row of `purchases_c` corresponds to exactly one purchase, table index can work as such an identifier. To create a column that coincides with the index one can use method `.reset_index()`.\n",
    "\n",
    "Apply `.reset_index()` to `purchases_c`, then repeat the join from the previous problem. Name the resulting dataframe `full_df`."
   ]
  },
  {
   "cell_type": "code",
   "execution_count": 46,
   "metadata": {},
   "outputs": [
    {
     "data": {
      "text/html": [
       "<div>\n",
       "<style scoped>\n",
       "    .dataframe tbody tr th:only-of-type {\n",
       "        vertical-align: middle;\n",
       "    }\n",
       "\n",
       "    .dataframe tbody tr th {\n",
       "        vertical-align: top;\n",
       "    }\n",
       "\n",
       "    .dataframe thead th {\n",
       "        text-align: right;\n",
       "    }\n",
       "</style>\n",
       "<table border=\"1\" class=\"dataframe\">\n",
       "  <thead>\n",
       "    <tr style=\"text-align: right;\">\n",
       "      <th></th>\n",
       "      <th>index</th>\n",
       "      <th>customer_id</th>\n",
       "      <th>date</th>\n",
       "      <th>shop_id</th>\n",
       "      <th>total_price</th>\n",
       "      <th>customer id</th>\n",
       "      <th>age</th>\n",
       "    </tr>\n",
       "  </thead>\n",
       "  <tbody>\n",
       "    <tr>\n",
       "      <th>0</th>\n",
       "      <td>0</td>\n",
       "      <td>0.0</td>\n",
       "      <td>2018-05-04</td>\n",
       "      <td>40</td>\n",
       "      <td>289.673291</td>\n",
       "      <td>0</td>\n",
       "      <td>38.0</td>\n",
       "    </tr>\n",
       "    <tr>\n",
       "      <th>1</th>\n",
       "      <td>1</td>\n",
       "      <td>0.0</td>\n",
       "      <td>2019-01-26</td>\n",
       "      <td>40</td>\n",
       "      <td>1316.898901</td>\n",
       "      <td>0</td>\n",
       "      <td>38.0</td>\n",
       "    </tr>\n",
       "    <tr>\n",
       "      <th>2</th>\n",
       "      <td>2</td>\n",
       "      <td>0.0</td>\n",
       "      <td>2018-11-18</td>\n",
       "      <td>42</td>\n",
       "      <td>159.414367</td>\n",
       "      <td>0</td>\n",
       "      <td>38.0</td>\n",
       "    </tr>\n",
       "    <tr>\n",
       "      <th>3</th>\n",
       "      <td>3</td>\n",
       "      <td>0.0</td>\n",
       "      <td>2018-05-12</td>\n",
       "      <td>42</td>\n",
       "      <td>808.791649</td>\n",
       "      <td>0</td>\n",
       "      <td>38.0</td>\n",
       "    </tr>\n",
       "    <tr>\n",
       "      <th>4</th>\n",
       "      <td>4</td>\n",
       "      <td>0.0</td>\n",
       "      <td>2019-04-20</td>\n",
       "      <td>42</td>\n",
       "      <td>1207.855038</td>\n",
       "      <td>0</td>\n",
       "      <td>38.0</td>\n",
       "    </tr>\n",
       "    <tr>\n",
       "      <th>...</th>\n",
       "      <td>...</td>\n",
       "      <td>...</td>\n",
       "      <td>...</td>\n",
       "      <td>...</td>\n",
       "      <td>...</td>\n",
       "      <td>...</td>\n",
       "      <td>...</td>\n",
       "    </tr>\n",
       "    <tr>\n",
       "      <th>28794</th>\n",
       "      <td>28794</td>\n",
       "      <td>1212.0</td>\n",
       "      <td>2018-11-08</td>\n",
       "      <td>60</td>\n",
       "      <td>46.653544</td>\n",
       "      <td>1212</td>\n",
       "      <td>24.0</td>\n",
       "    </tr>\n",
       "    <tr>\n",
       "      <th>28795</th>\n",
       "      <td>28795</td>\n",
       "      <td>1212.0</td>\n",
       "      <td>2018-07-20</td>\n",
       "      <td>60</td>\n",
       "      <td>50.592132</td>\n",
       "      <td>1212</td>\n",
       "      <td>24.0</td>\n",
       "    </tr>\n",
       "    <tr>\n",
       "      <th>28796</th>\n",
       "      <td>28796</td>\n",
       "      <td>1212.0</td>\n",
       "      <td>2019-04-18</td>\n",
       "      <td>15</td>\n",
       "      <td>95.459705</td>\n",
       "      <td>1212</td>\n",
       "      <td>24.0</td>\n",
       "    </tr>\n",
       "    <tr>\n",
       "      <th>28797</th>\n",
       "      <td>28797</td>\n",
       "      <td>1212.0</td>\n",
       "      <td>2019-02-14</td>\n",
       "      <td>60</td>\n",
       "      <td>69.968788</td>\n",
       "      <td>1212</td>\n",
       "      <td>24.0</td>\n",
       "    </tr>\n",
       "    <tr>\n",
       "      <th>28798</th>\n",
       "      <td>28798</td>\n",
       "      <td>1212.0</td>\n",
       "      <td>2018-07-13</td>\n",
       "      <td>60</td>\n",
       "      <td>129.335559</td>\n",
       "      <td>1212</td>\n",
       "      <td>24.0</td>\n",
       "    </tr>\n",
       "  </tbody>\n",
       "</table>\n",
       "<p>28799 rows × 7 columns</p>\n",
       "</div>"
      ],
      "text/plain": [
       "       index  customer_id       date  shop_id  total_price  customer id   age\n",
       "0          0          0.0 2018-05-04       40   289.673291            0  38.0\n",
       "1          1          0.0 2019-01-26       40  1316.898901            0  38.0\n",
       "2          2          0.0 2018-11-18       42   159.414367            0  38.0\n",
       "3          3          0.0 2018-05-12       42   808.791649            0  38.0\n",
       "4          4          0.0 2019-04-20       42  1207.855038            0  38.0\n",
       "...      ...          ...        ...      ...          ...          ...   ...\n",
       "28794  28794       1212.0 2018-11-08       60    46.653544         1212  24.0\n",
       "28795  28795       1212.0 2018-07-20       60    50.592132         1212  24.0\n",
       "28796  28796       1212.0 2019-04-18       15    95.459705         1212  24.0\n",
       "28797  28797       1212.0 2019-02-14       60    69.968788         1212  24.0\n",
       "28798  28798       1212.0 2018-07-13       60   129.335559         1212  24.0\n",
       "\n",
       "[28799 rows x 7 columns]"
      ]
     },
     "execution_count": 46,
     "metadata": {},
     "output_type": "execute_result"
    }
   ],
   "source": [
    "purchases_c.reset_index()"
   ]
  },
  {
   "cell_type": "code",
   "execution_count": 47,
   "metadata": {},
   "outputs": [
    {
     "data": {
      "text/html": [
       "<div>\n",
       "<style scoped>\n",
       "    .dataframe tbody tr th:only-of-type {\n",
       "        vertical-align: middle;\n",
       "    }\n",
       "\n",
       "    .dataframe tbody tr th {\n",
       "        vertical-align: top;\n",
       "    }\n",
       "\n",
       "    .dataframe thead th {\n",
       "        text-align: right;\n",
       "    }\n",
       "</style>\n",
       "<table border=\"1\" class=\"dataframe\">\n",
       "  <thead>\n",
       "    <tr style=\"text-align: right;\">\n",
       "      <th></th>\n",
       "      <th>customer_id</th>\n",
       "      <th>date</th>\n",
       "      <th>shop_id</th>\n",
       "      <th>total_price</th>\n",
       "      <th>customer id</th>\n",
       "      <th>age</th>\n",
       "      <th>offer_begin</th>\n",
       "      <th>offer_end</th>\n",
       "    </tr>\n",
       "  </thead>\n",
       "  <tbody>\n",
       "    <tr>\n",
       "      <th>0</th>\n",
       "      <td>0.0</td>\n",
       "      <td>2018-05-04</td>\n",
       "      <td>40</td>\n",
       "      <td>289.673291</td>\n",
       "      <td>0</td>\n",
       "      <td>38.0</td>\n",
       "      <td>2018-08-15</td>\n",
       "      <td>2018-09-10</td>\n",
       "    </tr>\n",
       "    <tr>\n",
       "      <th>1</th>\n",
       "      <td>0.0</td>\n",
       "      <td>2019-01-26</td>\n",
       "      <td>40</td>\n",
       "      <td>1316.898901</td>\n",
       "      <td>0</td>\n",
       "      <td>38.0</td>\n",
       "      <td>2018-08-15</td>\n",
       "      <td>2018-09-10</td>\n",
       "    </tr>\n",
       "    <tr>\n",
       "      <th>2</th>\n",
       "      <td>0.0</td>\n",
       "      <td>2019-06-01</td>\n",
       "      <td>40</td>\n",
       "      <td>341.922336</td>\n",
       "      <td>0</td>\n",
       "      <td>38.0</td>\n",
       "      <td>2018-08-15</td>\n",
       "      <td>2018-09-10</td>\n",
       "    </tr>\n",
       "    <tr>\n",
       "      <th>3</th>\n",
       "      <td>0.0</td>\n",
       "      <td>2018-12-22</td>\n",
       "      <td>40</td>\n",
       "      <td>936.012095</td>\n",
       "      <td>0</td>\n",
       "      <td>38.0</td>\n",
       "      <td>2018-08-15</td>\n",
       "      <td>2018-09-10</td>\n",
       "    </tr>\n",
       "    <tr>\n",
       "      <th>4</th>\n",
       "      <td>0.0</td>\n",
       "      <td>2018-06-24</td>\n",
       "      <td>40</td>\n",
       "      <td>1005.693540</td>\n",
       "      <td>0</td>\n",
       "      <td>38.0</td>\n",
       "      <td>2018-08-15</td>\n",
       "      <td>2018-09-10</td>\n",
       "    </tr>\n",
       "    <tr>\n",
       "      <th>...</th>\n",
       "      <td>...</td>\n",
       "      <td>...</td>\n",
       "      <td>...</td>\n",
       "      <td>...</td>\n",
       "      <td>...</td>\n",
       "      <td>...</td>\n",
       "      <td>...</td>\n",
       "      <td>...</td>\n",
       "    </tr>\n",
       "    <tr>\n",
       "      <th>69403</th>\n",
       "      <td>1199.0</td>\n",
       "      <td>2019-04-24</td>\n",
       "      <td>4</td>\n",
       "      <td>149.715169</td>\n",
       "      <td>1199</td>\n",
       "      <td>22.0</td>\n",
       "      <td>2018-08-28</td>\n",
       "      <td>2018-09-04</td>\n",
       "    </tr>\n",
       "    <tr>\n",
       "      <th>69404</th>\n",
       "      <td>1199.0</td>\n",
       "      <td>2018-10-17</td>\n",
       "      <td>4</td>\n",
       "      <td>209.615582</td>\n",
       "      <td>1199</td>\n",
       "      <td>22.0</td>\n",
       "      <td>2018-08-28</td>\n",
       "      <td>2018-09-28</td>\n",
       "    </tr>\n",
       "    <tr>\n",
       "      <th>69405</th>\n",
       "      <td>1199.0</td>\n",
       "      <td>2018-10-17</td>\n",
       "      <td>4</td>\n",
       "      <td>209.615582</td>\n",
       "      <td>1199</td>\n",
       "      <td>22.0</td>\n",
       "      <td>2018-08-28</td>\n",
       "      <td>2018-09-04</td>\n",
       "    </tr>\n",
       "    <tr>\n",
       "      <th>69406</th>\n",
       "      <td>1199.0</td>\n",
       "      <td>2019-05-11</td>\n",
       "      <td>4</td>\n",
       "      <td>666.640059</td>\n",
       "      <td>1199</td>\n",
       "      <td>22.0</td>\n",
       "      <td>2018-08-28</td>\n",
       "      <td>2018-09-28</td>\n",
       "    </tr>\n",
       "    <tr>\n",
       "      <th>69407</th>\n",
       "      <td>1199.0</td>\n",
       "      <td>2019-05-11</td>\n",
       "      <td>4</td>\n",
       "      <td>666.640059</td>\n",
       "      <td>1199</td>\n",
       "      <td>22.0</td>\n",
       "      <td>2018-08-28</td>\n",
       "      <td>2018-09-04</td>\n",
       "    </tr>\n",
       "  </tbody>\n",
       "</table>\n",
       "<p>69408 rows × 8 columns</p>\n",
       "</div>"
      ],
      "text/plain": [
       "       customer_id       date  shop_id  total_price  customer id   age  \\\n",
       "0              0.0 2018-05-04       40   289.673291            0  38.0   \n",
       "1              0.0 2019-01-26       40  1316.898901            0  38.0   \n",
       "2              0.0 2019-06-01       40   341.922336            0  38.0   \n",
       "3              0.0 2018-12-22       40   936.012095            0  38.0   \n",
       "4              0.0 2018-06-24       40  1005.693540            0  38.0   \n",
       "...            ...        ...      ...          ...          ...   ...   \n",
       "69403       1199.0 2019-04-24        4   149.715169         1199  22.0   \n",
       "69404       1199.0 2018-10-17        4   209.615582         1199  22.0   \n",
       "69405       1199.0 2018-10-17        4   209.615582         1199  22.0   \n",
       "69406       1199.0 2019-05-11        4   666.640059         1199  22.0   \n",
       "69407       1199.0 2019-05-11        4   666.640059         1199  22.0   \n",
       "\n",
       "      offer_begin   offer_end  \n",
       "0      2018-08-15  2018-09-10  \n",
       "1      2018-08-15  2018-09-10  \n",
       "2      2018-08-15  2018-09-10  \n",
       "3      2018-08-15  2018-09-10  \n",
       "4      2018-08-15  2018-09-10  \n",
       "...           ...         ...  \n",
       "69403  2018-08-28  2018-09-04  \n",
       "69404  2018-08-28  2018-09-28  \n",
       "69405  2018-08-28  2018-09-04  \n",
       "69406  2018-08-28  2018-09-28  \n",
       "69407  2018-08-28  2018-09-04  \n",
       "\n",
       "[69408 rows x 8 columns]"
      ]
     },
     "execution_count": 47,
     "metadata": {},
     "output_type": "execute_result"
    }
   ],
   "source": [
    "pd.merge(purchases_c, shops)"
   ]
  },
  {
   "cell_type": "code",
   "execution_count": 48,
   "metadata": {
    "deletable": false,
    "nbgrader": {
     "cell_type": "code",
     "checksum": "711532e6ab63c11aab5b7dd9d298b3af",
     "grade": false,
     "grade_id": "cell-8414788809192d4e",
     "locked": false,
     "schema_version": 3,
     "solution": true,
     "task": false
    }
   },
   "outputs": [],
   "source": [
    "full_df = pd.merge(purchases_c.reset_index(), full_df_preliminary)"
   ]
  },
  {
   "cell_type": "code",
   "execution_count": 49,
   "metadata": {
    "deletable": false,
    "editable": false,
    "nbgrader": {
     "cell_type": "code",
     "checksum": "f015cc3e9b8370425cdaf4ad4b395946",
     "grade": true,
     "grade_id": "cell-484af97a03241903",
     "locked": true,
     "points": 1,
     "schema_version": 3,
     "solution": false,
     "task": false
    }
   },
   "outputs": [],
   "source": [
    "assert (\n",
    "    full_df.query(\"index == 1207\")\n",
    "    .iloc[0][[\"customer_id\", \"date\", \"shop_id\", \"total_price\"]]\n",
    "    .equals(purchases_c.loc[1207][[\"customer_id\", \"date\", \"shop_id\", \"total_price\"]])\n",
    ")"
   ]
  },
  {
   "cell_type": "markdown",
   "metadata": {},
   "source": [
    "### Problem 17 (autograded)\n",
    "Now we need to check for each purchase, did it happen during any of the special offers or not. In the dataset `full_df`, each row relates some purchase with some special offer that happened in the same shop as a purchase. Let us check, is it true that this purchase happened during the corresponding offer? Add a column `offer` that contains values `True` or `False` that answer this question. To do so, we have to compare the value in column `date` with values in columns `offer_begin` and `offer_end`. Let us assume that `offer_end` is the last day of the offer (so the offer still holds during this day). Name the corresponding dataframe `full_df_offer`. Note that you can compare between dates, but not between dates and strings. Convert your data appropriately.\n"
   ]
  },
  {
   "cell_type": "code",
   "execution_count": 50,
   "metadata": {
    "deletable": false,
    "nbgrader": {
     "cell_type": "code",
     "checksum": "338c8fa45dcfcdf2403e1e16fd7acfe3",
     "grade": false,
     "grade_id": "cell-72280e238346d5dc",
     "locked": false,
     "schema_version": 3,
     "solution": true,
     "task": false
    }
   },
   "outputs": [],
   "source": [
    "full_df[\"offer_begin\"] = pd.to_datetime(full_df[\"offer_begin\"])\n",
    "full_df[\"offer_end\"] = pd.to_datetime(full_df[\"offer_end\"])"
   ]
  },
  {
   "cell_type": "code",
   "execution_count": 51,
   "metadata": {},
   "outputs": [
    {
     "data": {
      "text/html": [
       "<div>\n",
       "<style scoped>\n",
       "    .dataframe tbody tr th:only-of-type {\n",
       "        vertical-align: middle;\n",
       "    }\n",
       "\n",
       "    .dataframe tbody tr th {\n",
       "        vertical-align: top;\n",
       "    }\n",
       "\n",
       "    .dataframe thead th {\n",
       "        text-align: right;\n",
       "    }\n",
       "</style>\n",
       "<table border=\"1\" class=\"dataframe\">\n",
       "  <thead>\n",
       "    <tr style=\"text-align: right;\">\n",
       "      <th></th>\n",
       "      <th>index</th>\n",
       "      <th>customer_id</th>\n",
       "      <th>date</th>\n",
       "      <th>shop_id</th>\n",
       "      <th>total_price</th>\n",
       "      <th>customer id</th>\n",
       "      <th>age</th>\n",
       "      <th>offer_begin</th>\n",
       "      <th>offer_end</th>\n",
       "    </tr>\n",
       "  </thead>\n",
       "  <tbody>\n",
       "    <tr>\n",
       "      <th>69403</th>\n",
       "      <td>28794</td>\n",
       "      <td>1212.0</td>\n",
       "      <td>2018-11-08</td>\n",
       "      <td>60</td>\n",
       "      <td>46.653544</td>\n",
       "      <td>1212</td>\n",
       "      <td>24.0</td>\n",
       "      <td>2018-07-07</td>\n",
       "      <td>2018-08-02</td>\n",
       "    </tr>\n",
       "    <tr>\n",
       "      <th>69404</th>\n",
       "      <td>28795</td>\n",
       "      <td>1212.0</td>\n",
       "      <td>2018-07-20</td>\n",
       "      <td>60</td>\n",
       "      <td>50.592132</td>\n",
       "      <td>1212</td>\n",
       "      <td>24.0</td>\n",
       "      <td>2018-07-07</td>\n",
       "      <td>2018-08-02</td>\n",
       "    </tr>\n",
       "    <tr>\n",
       "      <th>69405</th>\n",
       "      <td>28796</td>\n",
       "      <td>1212.0</td>\n",
       "      <td>2019-04-18</td>\n",
       "      <td>15</td>\n",
       "      <td>95.459705</td>\n",
       "      <td>1212</td>\n",
       "      <td>24.0</td>\n",
       "      <td>NaT</td>\n",
       "      <td>NaT</td>\n",
       "    </tr>\n",
       "    <tr>\n",
       "      <th>69406</th>\n",
       "      <td>28797</td>\n",
       "      <td>1212.0</td>\n",
       "      <td>2019-02-14</td>\n",
       "      <td>60</td>\n",
       "      <td>69.968788</td>\n",
       "      <td>1212</td>\n",
       "      <td>24.0</td>\n",
       "      <td>2018-07-07</td>\n",
       "      <td>2018-08-02</td>\n",
       "    </tr>\n",
       "    <tr>\n",
       "      <th>69407</th>\n",
       "      <td>28798</td>\n",
       "      <td>1212.0</td>\n",
       "      <td>2018-07-13</td>\n",
       "      <td>60</td>\n",
       "      <td>129.335559</td>\n",
       "      <td>1212</td>\n",
       "      <td>24.0</td>\n",
       "      <td>2018-07-07</td>\n",
       "      <td>2018-08-02</td>\n",
       "    </tr>\n",
       "  </tbody>\n",
       "</table>\n",
       "</div>"
      ],
      "text/plain": [
       "       index  customer_id       date  shop_id  total_price  customer id   age  \\\n",
       "69403  28794       1212.0 2018-11-08       60    46.653544         1212  24.0   \n",
       "69404  28795       1212.0 2018-07-20       60    50.592132         1212  24.0   \n",
       "69405  28796       1212.0 2019-04-18       15    95.459705         1212  24.0   \n",
       "69406  28797       1212.0 2019-02-14       60    69.968788         1212  24.0   \n",
       "69407  28798       1212.0 2018-07-13       60   129.335559         1212  24.0   \n",
       "\n",
       "      offer_begin  offer_end  \n",
       "69403  2018-07-07 2018-08-02  \n",
       "69404  2018-07-07 2018-08-02  \n",
       "69405         NaT        NaT  \n",
       "69406  2018-07-07 2018-08-02  \n",
       "69407  2018-07-07 2018-08-02  "
      ]
     },
     "execution_count": 51,
     "metadata": {},
     "output_type": "execute_result"
    }
   ],
   "source": [
    "full_df.tail()"
   ]
  },
  {
   "cell_type": "code",
   "execution_count": 52,
   "metadata": {},
   "outputs": [],
   "source": [
    "full_df['offer'] = (full_df['date'] >= full_df['offer_begin']) & (full_df['date'] <= full_df['offer_end'])"
   ]
  },
  {
   "cell_type": "code",
   "execution_count": 53,
   "metadata": {},
   "outputs": [],
   "source": [
    "full_df_offer = full_df"
   ]
  },
  {
   "cell_type": "code",
   "execution_count": 54,
   "metadata": {
    "deletable": false,
    "editable": false,
    "nbgrader": {
     "cell_type": "code",
     "checksum": "5bc3c6253b86389489682486f3909035",
     "grade": true,
     "grade_id": "cell-158644e2bb557078",
     "locked": true,
     "points": 2,
     "schema_version": 3,
     "solution": false,
     "task": false
    }
   },
   "outputs": [],
   "source": [
    "from itertools import islice\n",
    "\n",
    "for _, row in islice(full_df_offer.iterrows(), 0, 1000):\n",
    "    assert (\n",
    "        (pd.to_datetime(row[\"date\"]) >= pd.to_datetime(row[\"offer_begin\"]))\n",
    "        & (pd.to_datetime(row[\"date\"]) <= pd.to_datetime(row[\"offer_end\"]))\n",
    "    ) == row[\"offer\"]"
   ]
  },
  {
   "cell_type": "code",
   "execution_count": 55,
   "metadata": {},
   "outputs": [],
   "source": [
    "del full_df_offer['customer id']"
   ]
  },
  {
   "cell_type": "markdown",
   "metadata": {},
   "source": [
    "### Almost here\n",
    "Now we have a table that contains information on whether a particular purchase happened during a particular special offer. What we need is a new table that contains information on whether a particular purchase happened during *any* relevant special offer. This can be done by grouping and aggregating. Basically, we need to group our table by column `index` that contains a purchase identifier and apply a special aggregation function `any` to column `offer`. This function checks if there is any `True` element in a group and returns `True` in this case, otherwise (everything is `False`) it returns false. Also, we have to keep all other columns that are related to purchases as is. They are duplicated in the group, so we can just get the first value. This is done by the aggregation function `first`. To apply these functions to different columns, we have to pass a dictionary to method `.agg`. Let's see what's happening.\n"
   ]
  },
  {
   "cell_type": "code",
   "execution_count": 56,
   "metadata": {
    "scrolled": true
   },
   "outputs": [],
   "source": [
    "full_df_offer[\"month\"] = full_df_offer['date'].dt.month"
   ]
  },
  {
   "cell_type": "code",
   "execution_count": 57,
   "metadata": {},
   "outputs": [
    {
     "data": {
      "text/html": [
       "<div>\n",
       "<style scoped>\n",
       "    .dataframe tbody tr th:only-of-type {\n",
       "        vertical-align: middle;\n",
       "    }\n",
       "\n",
       "    .dataframe tbody tr th {\n",
       "        vertical-align: top;\n",
       "    }\n",
       "\n",
       "    .dataframe thead th {\n",
       "        text-align: right;\n",
       "    }\n",
       "</style>\n",
       "<table border=\"1\" class=\"dataframe\">\n",
       "  <thead>\n",
       "    <tr style=\"text-align: right;\">\n",
       "      <th></th>\n",
       "      <th>customer_id</th>\n",
       "      <th>date</th>\n",
       "      <th>shop_id</th>\n",
       "      <th>total_price</th>\n",
       "      <th>age</th>\n",
       "      <th>month</th>\n",
       "      <th>offer</th>\n",
       "    </tr>\n",
       "    <tr>\n",
       "      <th>index</th>\n",
       "      <th></th>\n",
       "      <th></th>\n",
       "      <th></th>\n",
       "      <th></th>\n",
       "      <th></th>\n",
       "      <th></th>\n",
       "      <th></th>\n",
       "    </tr>\n",
       "  </thead>\n",
       "  <tbody>\n",
       "    <tr>\n",
       "      <th>0</th>\n",
       "      <td>0.0</td>\n",
       "      <td>2018-05-04</td>\n",
       "      <td>40</td>\n",
       "      <td>289.673291</td>\n",
       "      <td>38.0</td>\n",
       "      <td>5</td>\n",
       "      <td>False</td>\n",
       "    </tr>\n",
       "    <tr>\n",
       "      <th>1</th>\n",
       "      <td>0.0</td>\n",
       "      <td>2019-01-26</td>\n",
       "      <td>40</td>\n",
       "      <td>1316.898901</td>\n",
       "      <td>38.0</td>\n",
       "      <td>1</td>\n",
       "      <td>False</td>\n",
       "    </tr>\n",
       "    <tr>\n",
       "      <th>2</th>\n",
       "      <td>0.0</td>\n",
       "      <td>2018-11-18</td>\n",
       "      <td>42</td>\n",
       "      <td>159.414367</td>\n",
       "      <td>38.0</td>\n",
       "      <td>11</td>\n",
       "      <td>False</td>\n",
       "    </tr>\n",
       "    <tr>\n",
       "      <th>3</th>\n",
       "      <td>0.0</td>\n",
       "      <td>2018-05-12</td>\n",
       "      <td>42</td>\n",
       "      <td>808.791649</td>\n",
       "      <td>38.0</td>\n",
       "      <td>5</td>\n",
       "      <td>False</td>\n",
       "    </tr>\n",
       "    <tr>\n",
       "      <th>4</th>\n",
       "      <td>0.0</td>\n",
       "      <td>2019-04-20</td>\n",
       "      <td>42</td>\n",
       "      <td>1207.855038</td>\n",
       "      <td>38.0</td>\n",
       "      <td>4</td>\n",
       "      <td>False</td>\n",
       "    </tr>\n",
       "  </tbody>\n",
       "</table>\n",
       "</div>"
      ],
      "text/plain": [
       "       customer_id       date  shop_id  total_price   age  month  offer\n",
       "index                                                                  \n",
       "0              0.0 2018-05-04       40   289.673291  38.0      5  False\n",
       "1              0.0 2019-01-26       40  1316.898901  38.0      1  False\n",
       "2              0.0 2018-11-18       42   159.414367  38.0     11  False\n",
       "3              0.0 2018-05-12       42   808.791649  38.0      5  False\n",
       "4              0.0 2019-04-20       42  1207.855038  38.0      4  False"
      ]
     },
     "execution_count": 57,
     "metadata": {},
     "output_type": "execute_result"
    }
   ],
   "source": [
    "purchases_offer = full_df_offer.groupby(\"index\").agg(\n",
    "    {\n",
    "        \"customer_id\": \"first\",\n",
    "        \"date\": \"first\",\n",
    "        \"shop_id\": \"first\",\n",
    "        \"total_price\": \"first\",\n",
    "        \"age\": \"first\",\n",
    "        \"month\": \"first\",\n",
    "        \"offer\": \"any\",\n",
    "    }\n",
    ")\n",
    "purchases_offer[:5]"
   ]
  },
  {
   "cell_type": "markdown",
   "metadata": {},
   "source": [
    "### Problem 18 (quiz)\n",
    "Do people tend to spend more money when they make a purchase during a special offer? Let's check it!\n",
    "\n",
    "First of all, we know that during December people spend more money in shops due to holidays and at the time shops usually announce more special offers during December. As we are interested in the effect of special offers alone, let us remove all purchases that happened during December.\n",
    "\n",
    "Then create a table which rows are customers that contains two columns: in one column we have average of all prices of purchases that were made during special offers, and in the second the same for purchases that were not made during special offers. Drop all rows that contain `NaN`'s. Then apply an appropriate statistical test to check if there is any statistically significant difference between these columns. Use two-sided alternative.\n",
    "\n",
    "\n"
   ]
  },
  {
   "cell_type": "code",
   "execution_count": 69,
   "metadata": {},
   "outputs": [],
   "source": [
    "drop_december = purchases_offer[(purchases_offer['month'] == 12)].index"
   ]
  },
  {
   "cell_type": "code",
   "execution_count": 76,
   "metadata": {
    "deletable": false,
    "nbgrader": {
     "cell_type": "code",
     "checksum": "c8103dc0ef0df87757fec5507fde9022",
     "grade": false,
     "grade_id": "cell-ba9d2b1c164cb3e5",
     "locked": false,
     "schema_version": 3,
     "solution": true,
     "task": false
    }
   },
   "outputs": [],
   "source": [
    "purchases_drop = purchases_offer.drop(drop_december, axis=0)"
   ]
  },
  {
   "cell_type": "code",
   "execution_count": 77,
   "metadata": {},
   "outputs": [
    {
     "data": {
      "text/html": [
       "<div>\n",
       "<style scoped>\n",
       "    .dataframe tbody tr th:only-of-type {\n",
       "        vertical-align: middle;\n",
       "    }\n",
       "\n",
       "    .dataframe tbody tr th {\n",
       "        vertical-align: top;\n",
       "    }\n",
       "\n",
       "    .dataframe thead th {\n",
       "        text-align: right;\n",
       "    }\n",
       "</style>\n",
       "<table border=\"1\" class=\"dataframe\">\n",
       "  <thead>\n",
       "    <tr style=\"text-align: right;\">\n",
       "      <th></th>\n",
       "      <th>customer_id</th>\n",
       "      <th>date</th>\n",
       "      <th>shop_id</th>\n",
       "      <th>total_price</th>\n",
       "      <th>age</th>\n",
       "      <th>month</th>\n",
       "      <th>offer</th>\n",
       "    </tr>\n",
       "    <tr>\n",
       "      <th>index</th>\n",
       "      <th></th>\n",
       "      <th></th>\n",
       "      <th></th>\n",
       "      <th></th>\n",
       "      <th></th>\n",
       "      <th></th>\n",
       "      <th></th>\n",
       "    </tr>\n",
       "  </thead>\n",
       "  <tbody>\n",
       "    <tr>\n",
       "      <th>0</th>\n",
       "      <td>0.0</td>\n",
       "      <td>2018-05-04</td>\n",
       "      <td>40</td>\n",
       "      <td>289.673291</td>\n",
       "      <td>38.0</td>\n",
       "      <td>5</td>\n",
       "      <td>False</td>\n",
       "    </tr>\n",
       "    <tr>\n",
       "      <th>1</th>\n",
       "      <td>0.0</td>\n",
       "      <td>2019-01-26</td>\n",
       "      <td>40</td>\n",
       "      <td>1316.898901</td>\n",
       "      <td>38.0</td>\n",
       "      <td>1</td>\n",
       "      <td>False</td>\n",
       "    </tr>\n",
       "    <tr>\n",
       "      <th>2</th>\n",
       "      <td>0.0</td>\n",
       "      <td>2018-11-18</td>\n",
       "      <td>42</td>\n",
       "      <td>159.414367</td>\n",
       "      <td>38.0</td>\n",
       "      <td>11</td>\n",
       "      <td>False</td>\n",
       "    </tr>\n",
       "    <tr>\n",
       "      <th>3</th>\n",
       "      <td>0.0</td>\n",
       "      <td>2018-05-12</td>\n",
       "      <td>42</td>\n",
       "      <td>808.791649</td>\n",
       "      <td>38.0</td>\n",
       "      <td>5</td>\n",
       "      <td>False</td>\n",
       "    </tr>\n",
       "    <tr>\n",
       "      <th>4</th>\n",
       "      <td>0.0</td>\n",
       "      <td>2019-04-20</td>\n",
       "      <td>42</td>\n",
       "      <td>1207.855038</td>\n",
       "      <td>38.0</td>\n",
       "      <td>4</td>\n",
       "      <td>False</td>\n",
       "    </tr>\n",
       "  </tbody>\n",
       "</table>\n",
       "</div>"
      ],
      "text/plain": [
       "       customer_id       date  shop_id  total_price   age  month  offer\n",
       "index                                                                  \n",
       "0              0.0 2018-05-04       40   289.673291  38.0      5  False\n",
       "1              0.0 2019-01-26       40  1316.898901  38.0      1  False\n",
       "2              0.0 2018-11-18       42   159.414367  38.0     11  False\n",
       "3              0.0 2018-05-12       42   808.791649  38.0      5  False\n",
       "4              0.0 2019-04-20       42  1207.855038  38.0      4  False"
      ]
     },
     "execution_count": 77,
     "metadata": {},
     "output_type": "execute_result"
    }
   ],
   "source": [
    "purchases_drop[:5]"
   ]
  },
  {
   "cell_type": "code",
   "execution_count": 79,
   "metadata": {},
   "outputs": [],
   "source": [
    "table = pd.pivot_table(purchases_drop, values='total_price', index=['customer_id'],\n",
    "                    columns=['offer'], aggfunc=np.mean)"
   ]
  },
  {
   "cell_type": "code",
   "execution_count": 80,
   "metadata": {},
   "outputs": [
    {
     "data": {
      "text/plain": [
       "348.5791234268564"
      ]
     },
     "execution_count": 80,
     "metadata": {},
     "output_type": "execute_result"
    }
   ],
   "source": [
    "table[False].mean()"
   ]
  },
  {
   "cell_type": "code",
   "execution_count": 81,
   "metadata": {},
   "outputs": [
    {
     "data": {
      "text/plain": [
       "517.8150052494054"
      ]
     },
     "execution_count": 81,
     "metadata": {},
     "output_type": "execute_result"
    }
   ],
   "source": [
    "table[True].mean()"
   ]
  },
  {
   "cell_type": "code",
   "execution_count": 82,
   "metadata": {},
   "outputs": [],
   "source": [
    "difference2 = table[True] - table[False]"
   ]
  },
  {
   "cell_type": "code",
   "execution_count": 83,
   "metadata": {},
   "outputs": [],
   "source": [
    "difference3 = difference2[~(np.isnan(difference2))]"
   ]
  },
  {
   "cell_type": "code",
   "execution_count": 86,
   "metadata": {},
   "outputs": [],
   "source": [
    "t_stat2, pvalue2 = scipy.stats.ttest_1samp(difference3, 0)"
   ]
  },
  {
   "cell_type": "code",
   "execution_count": 88,
   "metadata": {},
   "outputs": [
    {
     "data": {
      "text/plain": [
       "17.0"
      ]
     },
     "execution_count": 88,
     "metadata": {},
     "output_type": "execute_result"
    }
   ],
   "source": [
    "round(t_stat2)"
   ]
  },
  {
   "cell_type": "code",
   "execution_count": null,
   "metadata": {},
   "outputs": [],
   "source": []
  }
 ],
 "metadata": {
  "kernelspec": {
   "display_name": "Python 3",
   "language": "python",
   "name": "python3"
  },
  "language_info": {
   "codemirror_mode": {
    "name": "ipython",
    "version": 3
   },
   "file_extension": ".py",
   "mimetype": "text/x-python",
   "name": "python",
   "nbconvert_exporter": "python",
   "pygments_lexer": "ipython3",
   "version": "3.8.5"
  }
 },
 "nbformat": 4,
 "nbformat_minor": 4
}
